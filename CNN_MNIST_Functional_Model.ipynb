{
  "nbformat": 4,
  "nbformat_minor": 0,
  "metadata": {
    "colab": {
      "name": "CNN MNIST Functional Model.ipynb",
      "provenance": [],
      "collapsed_sections": [],
      "toc_visible": true,
      "include_colab_link": true
    },
    "kernelspec": {
      "name": "python3",
      "display_name": "Python 3"
    },
    "accelerator": "GPU"
  },
  "cells": [
    {
      "cell_type": "markdown",
      "metadata": {
        "id": "view-in-github",
        "colab_type": "text"
      },
      "source": [
        "<a href=\"https://colab.research.google.com/github/AnirbanMukherjeeXD/cnn-mnist-digits/blob/master/CNN_MNIST_Functional_Model.ipynb\" target=\"_parent\"><img src=\"https://colab.research.google.com/assets/colab-badge.svg\" alt=\"Open In Colab\"/></a>"
      ]
    },
    {
      "cell_type": "code",
      "metadata": {
        "id": "YzbfHp8t6F3h",
        "colab_type": "code",
        "colab": {
          "base_uri": "https://localhost:8080/",
          "height": 34
        },
        "outputId": "5d2bc13e-bad3-4ba0-81c5-1cbc8805f0a8"
      },
      "source": [
        "%tensorflow_version 2.x"
      ],
      "execution_count": 1,
      "outputs": [
        {
          "output_type": "stream",
          "text": [
            "TensorFlow 2.x selected.\n"
          ],
          "name": "stdout"
        }
      ]
    },
    {
      "cell_type": "code",
      "metadata": {
        "id": "aWeTLKe0BtJH",
        "colab_type": "code",
        "colab": {}
      },
      "source": [
        "import tensorflow as tf"
      ],
      "execution_count": 0,
      "outputs": []
    },
    {
      "cell_type": "code",
      "metadata": {
        "id": "4BSGL6A-3Ura",
        "colab_type": "code",
        "colab": {}
      },
      "source": [
        "import pandas as pd\n",
        "import matplotlib.pyplot as plt\n",
        "import numpy as np\n",
        "import cv2"
      ],
      "execution_count": 0,
      "outputs": []
    },
    {
      "cell_type": "code",
      "metadata": {
        "id": "foaT0D_kClHT",
        "colab_type": "code",
        "colab": {}
      },
      "source": [
        "dataset=pd.read_csv('sample_data/mnist_train_small.csv',header=None)\n",
        "dataset_test=pd.read_csv('sample_data/mnist_test.csv',header=None)"
      ],
      "execution_count": 0,
      "outputs": []
    },
    {
      "cell_type": "code",
      "metadata": {
        "id": "9Rt4I6JODZRZ",
        "colab_type": "code",
        "outputId": "277bd871-4aa4-495b-c5f4-aeec857333a4",
        "colab": {
          "base_uri": "https://localhost:8080/",
          "height": 244
        }
      },
      "source": [
        "dataset.head()"
      ],
      "execution_count": 4,
      "outputs": [
        {
          "output_type": "execute_result",
          "data": {
            "text/html": [
              "<div>\n",
              "<style scoped>\n",
              "    .dataframe tbody tr th:only-of-type {\n",
              "        vertical-align: middle;\n",
              "    }\n",
              "\n",
              "    .dataframe tbody tr th {\n",
              "        vertical-align: top;\n",
              "    }\n",
              "\n",
              "    .dataframe thead th {\n",
              "        text-align: right;\n",
              "    }\n",
              "</style>\n",
              "<table border=\"1\" class=\"dataframe\">\n",
              "  <thead>\n",
              "    <tr style=\"text-align: right;\">\n",
              "      <th></th>\n",
              "      <th>0</th>\n",
              "      <th>1</th>\n",
              "      <th>2</th>\n",
              "      <th>3</th>\n",
              "      <th>4</th>\n",
              "      <th>5</th>\n",
              "      <th>6</th>\n",
              "      <th>7</th>\n",
              "      <th>8</th>\n",
              "      <th>9</th>\n",
              "      <th>10</th>\n",
              "      <th>11</th>\n",
              "      <th>12</th>\n",
              "      <th>13</th>\n",
              "      <th>14</th>\n",
              "      <th>15</th>\n",
              "      <th>16</th>\n",
              "      <th>17</th>\n",
              "      <th>18</th>\n",
              "      <th>19</th>\n",
              "      <th>20</th>\n",
              "      <th>21</th>\n",
              "      <th>22</th>\n",
              "      <th>23</th>\n",
              "      <th>24</th>\n",
              "      <th>25</th>\n",
              "      <th>26</th>\n",
              "      <th>27</th>\n",
              "      <th>28</th>\n",
              "      <th>29</th>\n",
              "      <th>30</th>\n",
              "      <th>31</th>\n",
              "      <th>32</th>\n",
              "      <th>33</th>\n",
              "      <th>34</th>\n",
              "      <th>35</th>\n",
              "      <th>36</th>\n",
              "      <th>37</th>\n",
              "      <th>38</th>\n",
              "      <th>39</th>\n",
              "      <th>...</th>\n",
              "      <th>745</th>\n",
              "      <th>746</th>\n",
              "      <th>747</th>\n",
              "      <th>748</th>\n",
              "      <th>749</th>\n",
              "      <th>750</th>\n",
              "      <th>751</th>\n",
              "      <th>752</th>\n",
              "      <th>753</th>\n",
              "      <th>754</th>\n",
              "      <th>755</th>\n",
              "      <th>756</th>\n",
              "      <th>757</th>\n",
              "      <th>758</th>\n",
              "      <th>759</th>\n",
              "      <th>760</th>\n",
              "      <th>761</th>\n",
              "      <th>762</th>\n",
              "      <th>763</th>\n",
              "      <th>764</th>\n",
              "      <th>765</th>\n",
              "      <th>766</th>\n",
              "      <th>767</th>\n",
              "      <th>768</th>\n",
              "      <th>769</th>\n",
              "      <th>770</th>\n",
              "      <th>771</th>\n",
              "      <th>772</th>\n",
              "      <th>773</th>\n",
              "      <th>774</th>\n",
              "      <th>775</th>\n",
              "      <th>776</th>\n",
              "      <th>777</th>\n",
              "      <th>778</th>\n",
              "      <th>779</th>\n",
              "      <th>780</th>\n",
              "      <th>781</th>\n",
              "      <th>782</th>\n",
              "      <th>783</th>\n",
              "      <th>784</th>\n",
              "    </tr>\n",
              "  </thead>\n",
              "  <tbody>\n",
              "    <tr>\n",
              "      <th>0</th>\n",
              "      <td>6</td>\n",
              "      <td>0</td>\n",
              "      <td>0</td>\n",
              "      <td>0</td>\n",
              "      <td>0</td>\n",
              "      <td>0</td>\n",
              "      <td>0</td>\n",
              "      <td>0</td>\n",
              "      <td>0</td>\n",
              "      <td>0</td>\n",
              "      <td>0</td>\n",
              "      <td>0</td>\n",
              "      <td>0</td>\n",
              "      <td>0</td>\n",
              "      <td>0</td>\n",
              "      <td>0</td>\n",
              "      <td>0</td>\n",
              "      <td>0</td>\n",
              "      <td>0</td>\n",
              "      <td>0</td>\n",
              "      <td>0</td>\n",
              "      <td>0</td>\n",
              "      <td>0</td>\n",
              "      <td>0</td>\n",
              "      <td>0</td>\n",
              "      <td>0</td>\n",
              "      <td>0</td>\n",
              "      <td>0</td>\n",
              "      <td>0</td>\n",
              "      <td>0</td>\n",
              "      <td>0</td>\n",
              "      <td>0</td>\n",
              "      <td>0</td>\n",
              "      <td>0</td>\n",
              "      <td>0</td>\n",
              "      <td>0</td>\n",
              "      <td>0</td>\n",
              "      <td>0</td>\n",
              "      <td>0</td>\n",
              "      <td>0</td>\n",
              "      <td>...</td>\n",
              "      <td>0</td>\n",
              "      <td>0</td>\n",
              "      <td>0</td>\n",
              "      <td>0</td>\n",
              "      <td>0</td>\n",
              "      <td>0</td>\n",
              "      <td>0</td>\n",
              "      <td>0</td>\n",
              "      <td>0</td>\n",
              "      <td>0</td>\n",
              "      <td>0</td>\n",
              "      <td>0</td>\n",
              "      <td>0</td>\n",
              "      <td>0</td>\n",
              "      <td>0</td>\n",
              "      <td>0</td>\n",
              "      <td>0</td>\n",
              "      <td>0</td>\n",
              "      <td>0</td>\n",
              "      <td>0</td>\n",
              "      <td>0</td>\n",
              "      <td>0</td>\n",
              "      <td>0</td>\n",
              "      <td>0</td>\n",
              "      <td>0</td>\n",
              "      <td>0</td>\n",
              "      <td>0</td>\n",
              "      <td>0</td>\n",
              "      <td>0</td>\n",
              "      <td>0</td>\n",
              "      <td>0</td>\n",
              "      <td>0</td>\n",
              "      <td>0</td>\n",
              "      <td>0</td>\n",
              "      <td>0</td>\n",
              "      <td>0</td>\n",
              "      <td>0</td>\n",
              "      <td>0</td>\n",
              "      <td>0</td>\n",
              "      <td>0</td>\n",
              "    </tr>\n",
              "    <tr>\n",
              "      <th>1</th>\n",
              "      <td>5</td>\n",
              "      <td>0</td>\n",
              "      <td>0</td>\n",
              "      <td>0</td>\n",
              "      <td>0</td>\n",
              "      <td>0</td>\n",
              "      <td>0</td>\n",
              "      <td>0</td>\n",
              "      <td>0</td>\n",
              "      <td>0</td>\n",
              "      <td>0</td>\n",
              "      <td>0</td>\n",
              "      <td>0</td>\n",
              "      <td>0</td>\n",
              "      <td>0</td>\n",
              "      <td>0</td>\n",
              "      <td>0</td>\n",
              "      <td>0</td>\n",
              "      <td>0</td>\n",
              "      <td>0</td>\n",
              "      <td>0</td>\n",
              "      <td>0</td>\n",
              "      <td>0</td>\n",
              "      <td>0</td>\n",
              "      <td>0</td>\n",
              "      <td>0</td>\n",
              "      <td>0</td>\n",
              "      <td>0</td>\n",
              "      <td>0</td>\n",
              "      <td>0</td>\n",
              "      <td>0</td>\n",
              "      <td>0</td>\n",
              "      <td>0</td>\n",
              "      <td>0</td>\n",
              "      <td>0</td>\n",
              "      <td>0</td>\n",
              "      <td>0</td>\n",
              "      <td>0</td>\n",
              "      <td>0</td>\n",
              "      <td>0</td>\n",
              "      <td>...</td>\n",
              "      <td>0</td>\n",
              "      <td>0</td>\n",
              "      <td>0</td>\n",
              "      <td>0</td>\n",
              "      <td>0</td>\n",
              "      <td>0</td>\n",
              "      <td>0</td>\n",
              "      <td>0</td>\n",
              "      <td>0</td>\n",
              "      <td>0</td>\n",
              "      <td>0</td>\n",
              "      <td>0</td>\n",
              "      <td>0</td>\n",
              "      <td>0</td>\n",
              "      <td>0</td>\n",
              "      <td>0</td>\n",
              "      <td>0</td>\n",
              "      <td>0</td>\n",
              "      <td>0</td>\n",
              "      <td>0</td>\n",
              "      <td>0</td>\n",
              "      <td>0</td>\n",
              "      <td>0</td>\n",
              "      <td>0</td>\n",
              "      <td>0</td>\n",
              "      <td>0</td>\n",
              "      <td>0</td>\n",
              "      <td>0</td>\n",
              "      <td>0</td>\n",
              "      <td>0</td>\n",
              "      <td>0</td>\n",
              "      <td>0</td>\n",
              "      <td>0</td>\n",
              "      <td>0</td>\n",
              "      <td>0</td>\n",
              "      <td>0</td>\n",
              "      <td>0</td>\n",
              "      <td>0</td>\n",
              "      <td>0</td>\n",
              "      <td>0</td>\n",
              "    </tr>\n",
              "    <tr>\n",
              "      <th>2</th>\n",
              "      <td>7</td>\n",
              "      <td>0</td>\n",
              "      <td>0</td>\n",
              "      <td>0</td>\n",
              "      <td>0</td>\n",
              "      <td>0</td>\n",
              "      <td>0</td>\n",
              "      <td>0</td>\n",
              "      <td>0</td>\n",
              "      <td>0</td>\n",
              "      <td>0</td>\n",
              "      <td>0</td>\n",
              "      <td>0</td>\n",
              "      <td>0</td>\n",
              "      <td>0</td>\n",
              "      <td>0</td>\n",
              "      <td>0</td>\n",
              "      <td>0</td>\n",
              "      <td>0</td>\n",
              "      <td>0</td>\n",
              "      <td>0</td>\n",
              "      <td>0</td>\n",
              "      <td>0</td>\n",
              "      <td>0</td>\n",
              "      <td>0</td>\n",
              "      <td>0</td>\n",
              "      <td>0</td>\n",
              "      <td>0</td>\n",
              "      <td>0</td>\n",
              "      <td>0</td>\n",
              "      <td>0</td>\n",
              "      <td>0</td>\n",
              "      <td>0</td>\n",
              "      <td>0</td>\n",
              "      <td>0</td>\n",
              "      <td>0</td>\n",
              "      <td>0</td>\n",
              "      <td>0</td>\n",
              "      <td>0</td>\n",
              "      <td>0</td>\n",
              "      <td>...</td>\n",
              "      <td>0</td>\n",
              "      <td>0</td>\n",
              "      <td>0</td>\n",
              "      <td>0</td>\n",
              "      <td>0</td>\n",
              "      <td>0</td>\n",
              "      <td>0</td>\n",
              "      <td>0</td>\n",
              "      <td>0</td>\n",
              "      <td>0</td>\n",
              "      <td>0</td>\n",
              "      <td>0</td>\n",
              "      <td>0</td>\n",
              "      <td>0</td>\n",
              "      <td>0</td>\n",
              "      <td>0</td>\n",
              "      <td>0</td>\n",
              "      <td>0</td>\n",
              "      <td>0</td>\n",
              "      <td>0</td>\n",
              "      <td>0</td>\n",
              "      <td>0</td>\n",
              "      <td>0</td>\n",
              "      <td>0</td>\n",
              "      <td>0</td>\n",
              "      <td>0</td>\n",
              "      <td>0</td>\n",
              "      <td>0</td>\n",
              "      <td>0</td>\n",
              "      <td>0</td>\n",
              "      <td>0</td>\n",
              "      <td>0</td>\n",
              "      <td>0</td>\n",
              "      <td>0</td>\n",
              "      <td>0</td>\n",
              "      <td>0</td>\n",
              "      <td>0</td>\n",
              "      <td>0</td>\n",
              "      <td>0</td>\n",
              "      <td>0</td>\n",
              "    </tr>\n",
              "    <tr>\n",
              "      <th>3</th>\n",
              "      <td>9</td>\n",
              "      <td>0</td>\n",
              "      <td>0</td>\n",
              "      <td>0</td>\n",
              "      <td>0</td>\n",
              "      <td>0</td>\n",
              "      <td>0</td>\n",
              "      <td>0</td>\n",
              "      <td>0</td>\n",
              "      <td>0</td>\n",
              "      <td>0</td>\n",
              "      <td>0</td>\n",
              "      <td>0</td>\n",
              "      <td>0</td>\n",
              "      <td>0</td>\n",
              "      <td>0</td>\n",
              "      <td>0</td>\n",
              "      <td>0</td>\n",
              "      <td>0</td>\n",
              "      <td>0</td>\n",
              "      <td>0</td>\n",
              "      <td>0</td>\n",
              "      <td>0</td>\n",
              "      <td>0</td>\n",
              "      <td>0</td>\n",
              "      <td>0</td>\n",
              "      <td>0</td>\n",
              "      <td>0</td>\n",
              "      <td>0</td>\n",
              "      <td>0</td>\n",
              "      <td>0</td>\n",
              "      <td>0</td>\n",
              "      <td>0</td>\n",
              "      <td>0</td>\n",
              "      <td>0</td>\n",
              "      <td>0</td>\n",
              "      <td>0</td>\n",
              "      <td>0</td>\n",
              "      <td>0</td>\n",
              "      <td>0</td>\n",
              "      <td>...</td>\n",
              "      <td>15</td>\n",
              "      <td>0</td>\n",
              "      <td>0</td>\n",
              "      <td>0</td>\n",
              "      <td>0</td>\n",
              "      <td>0</td>\n",
              "      <td>0</td>\n",
              "      <td>0</td>\n",
              "      <td>0</td>\n",
              "      <td>0</td>\n",
              "      <td>0</td>\n",
              "      <td>0</td>\n",
              "      <td>0</td>\n",
              "      <td>0</td>\n",
              "      <td>0</td>\n",
              "      <td>0</td>\n",
              "      <td>0</td>\n",
              "      <td>0</td>\n",
              "      <td>0</td>\n",
              "      <td>0</td>\n",
              "      <td>0</td>\n",
              "      <td>0</td>\n",
              "      <td>0</td>\n",
              "      <td>0</td>\n",
              "      <td>0</td>\n",
              "      <td>0</td>\n",
              "      <td>0</td>\n",
              "      <td>0</td>\n",
              "      <td>0</td>\n",
              "      <td>0</td>\n",
              "      <td>0</td>\n",
              "      <td>0</td>\n",
              "      <td>0</td>\n",
              "      <td>0</td>\n",
              "      <td>0</td>\n",
              "      <td>0</td>\n",
              "      <td>0</td>\n",
              "      <td>0</td>\n",
              "      <td>0</td>\n",
              "      <td>0</td>\n",
              "    </tr>\n",
              "    <tr>\n",
              "      <th>4</th>\n",
              "      <td>5</td>\n",
              "      <td>0</td>\n",
              "      <td>0</td>\n",
              "      <td>0</td>\n",
              "      <td>0</td>\n",
              "      <td>0</td>\n",
              "      <td>0</td>\n",
              "      <td>0</td>\n",
              "      <td>0</td>\n",
              "      <td>0</td>\n",
              "      <td>0</td>\n",
              "      <td>0</td>\n",
              "      <td>0</td>\n",
              "      <td>0</td>\n",
              "      <td>0</td>\n",
              "      <td>0</td>\n",
              "      <td>0</td>\n",
              "      <td>0</td>\n",
              "      <td>0</td>\n",
              "      <td>0</td>\n",
              "      <td>0</td>\n",
              "      <td>0</td>\n",
              "      <td>0</td>\n",
              "      <td>0</td>\n",
              "      <td>0</td>\n",
              "      <td>0</td>\n",
              "      <td>0</td>\n",
              "      <td>0</td>\n",
              "      <td>0</td>\n",
              "      <td>0</td>\n",
              "      <td>0</td>\n",
              "      <td>0</td>\n",
              "      <td>0</td>\n",
              "      <td>0</td>\n",
              "      <td>0</td>\n",
              "      <td>0</td>\n",
              "      <td>0</td>\n",
              "      <td>0</td>\n",
              "      <td>0</td>\n",
              "      <td>0</td>\n",
              "      <td>...</td>\n",
              "      <td>0</td>\n",
              "      <td>0</td>\n",
              "      <td>0</td>\n",
              "      <td>0</td>\n",
              "      <td>0</td>\n",
              "      <td>0</td>\n",
              "      <td>0</td>\n",
              "      <td>0</td>\n",
              "      <td>0</td>\n",
              "      <td>0</td>\n",
              "      <td>0</td>\n",
              "      <td>0</td>\n",
              "      <td>0</td>\n",
              "      <td>0</td>\n",
              "      <td>0</td>\n",
              "      <td>0</td>\n",
              "      <td>0</td>\n",
              "      <td>0</td>\n",
              "      <td>0</td>\n",
              "      <td>0</td>\n",
              "      <td>0</td>\n",
              "      <td>0</td>\n",
              "      <td>0</td>\n",
              "      <td>0</td>\n",
              "      <td>0</td>\n",
              "      <td>0</td>\n",
              "      <td>0</td>\n",
              "      <td>0</td>\n",
              "      <td>0</td>\n",
              "      <td>0</td>\n",
              "      <td>0</td>\n",
              "      <td>0</td>\n",
              "      <td>0</td>\n",
              "      <td>0</td>\n",
              "      <td>0</td>\n",
              "      <td>0</td>\n",
              "      <td>0</td>\n",
              "      <td>0</td>\n",
              "      <td>0</td>\n",
              "      <td>0</td>\n",
              "    </tr>\n",
              "  </tbody>\n",
              "</table>\n",
              "<p>5 rows × 785 columns</p>\n",
              "</div>"
            ],
            "text/plain": [
              "   0    1    2    3    4    5    6    ...  778  779  780  781  782  783  784\n",
              "0    6    0    0    0    0    0    0  ...    0    0    0    0    0    0    0\n",
              "1    5    0    0    0    0    0    0  ...    0    0    0    0    0    0    0\n",
              "2    7    0    0    0    0    0    0  ...    0    0    0    0    0    0    0\n",
              "3    9    0    0    0    0    0    0  ...    0    0    0    0    0    0    0\n",
              "4    5    0    0    0    0    0    0  ...    0    0    0    0    0    0    0\n",
              "\n",
              "[5 rows x 785 columns]"
            ]
          },
          "metadata": {
            "tags": []
          },
          "execution_count": 4
        }
      ]
    },
    {
      "cell_type": "code",
      "metadata": {
        "id": "HqRi5zNnBq7i",
        "colab_type": "code",
        "colab": {}
      },
      "source": [
        "X_train=dataset.iloc[:,1:].values.reshape(dataset.iloc[:,1:].shape[0],28,28,1)\n",
        "Y_train=dataset.iloc[:,0].values"
      ],
      "execution_count": 0,
      "outputs": []
    },
    {
      "cell_type": "code",
      "metadata": {
        "id": "KcJ7wYn-o_48",
        "colab_type": "code",
        "colab": {}
      },
      "source": [
        "X_test=dataset_test.iloc[:,1:].values.reshape(dataset_test.iloc[:,1:].shape[0],28,28,1)\n",
        "Y_test=dataset_test.iloc[:,0].values"
      ],
      "execution_count": 0,
      "outputs": []
    },
    {
      "cell_type": "code",
      "metadata": {
        "id": "dgh8Nrw58TmT",
        "colab_type": "code",
        "colab": {}
      },
      "source": [
        "from tensorflow.keras.utils import to_categorical\n",
        "Y_train = to_categorical(Y_train)\n",
        "Y_test = to_categorical(Y_test)"
      ],
      "execution_count": 0,
      "outputs": []
    },
    {
      "cell_type": "code",
      "metadata": {
        "id": "GYYiTciRCjVW",
        "colab_type": "code",
        "outputId": "11158a24-54f7-449c-a752-935e44dd7b12",
        "colab": {
          "base_uri": "https://localhost:8080/",
          "height": 34
        }
      },
      "source": [
        "X_train.shape"
      ],
      "execution_count": 10,
      "outputs": [
        {
          "output_type": "execute_result",
          "data": {
            "text/plain": [
              "(20000, 28, 28, 1)"
            ]
          },
          "metadata": {
            "tags": []
          },
          "execution_count": 10
        }
      ]
    },
    {
      "cell_type": "code",
      "metadata": {
        "id": "5_dJAmnupQoq",
        "colab_type": "code",
        "outputId": "7b169604-9f5f-4207-cbe2-7a77d9bf9e19",
        "colab": {
          "base_uri": "https://localhost:8080/",
          "height": 34
        }
      },
      "source": [
        "X_test.shape"
      ],
      "execution_count": 11,
      "outputs": [
        {
          "output_type": "execute_result",
          "data": {
            "text/plain": [
              "(10000, 28, 28, 1)"
            ]
          },
          "metadata": {
            "tags": []
          },
          "execution_count": 11
        }
      ]
    },
    {
      "cell_type": "code",
      "metadata": {
        "id": "AOW4oIDzCtcz",
        "colab_type": "code",
        "outputId": "ac8cdd1e-6f41-451a-9032-68827b8ba38c",
        "colab": {
          "base_uri": "https://localhost:8080/",
          "height": 282
        }
      },
      "source": [
        "plt.gray()\n",
        "plt.imshow(X_train[0].reshape(28,28))"
      ],
      "execution_count": 12,
      "outputs": [
        {
          "output_type": "execute_result",
          "data": {
            "text/plain": [
              "<matplotlib.image.AxesImage at 0x7f0513157e48>"
            ]
          },
          "metadata": {
            "tags": []
          },
          "execution_count": 12
        },
        {
          "output_type": "display_data",
          "data": {
            "image/png": "[encoded data removed]",
            "text/plain": [
              "<Figure size 432x288 with 1 Axes>"
            ]
          },
          "metadata": {
            "tags": []
          }
        }
      ]
    },
    {
      "cell_type": "code",
      "metadata": {
        "id": "WNrBbD3UM5tZ",
        "colab_type": "code",
        "colab": {}
      },
      "source": [
        "img=np.array(X_train[0].reshape(28,28))"
      ],
      "execution_count": 0,
      "outputs": []
    },
    {
      "cell_type": "markdown",
      "metadata": {
        "id": "cXlDZXHQBSzA",
        "colab_type": "text"
      },
      "source": [
        "##CNN"
      ]
    },
    {
      "cell_type": "code",
      "metadata": {
        "id": "u2JigrrG6aT_",
        "colab_type": "code",
        "colab": {}
      },
      "source": [
        "from tensorflow.keras.models import Model,load_model\n",
        "from tensorflow.keras.layers import Input, Dense, Flatten\n",
        "from tensorflow.keras.layers import Conv2D\n",
        "from tensorflow.keras.layers import MaxPooling2D"
      ],
      "execution_count": 0,
      "outputs": []
    },
    {
      "cell_type": "code",
      "metadata": {
        "id": "TeC99hj3bOqK",
        "colab_type": "code",
        "colab": {}
      },
      "source": [
        "inp = Input(shape=(28,28,1))\n",
        "conv1 = Conv2D(32, kernel_size=4, activation='relu')(inp)\n",
        "pool1 = MaxPooling2D(pool_size=(2, 2))(conv1)\n",
        "conv2 = Conv2D(16, kernel_size=4, activation='relu')(pool1)\n",
        "pool2 = MaxPooling2D(pool_size=(2, 2))(conv2)\n",
        "flat = Flatten()(pool2)\n",
        "dense = Dense(128, activation='relu')(flat)\n",
        "out = Dense(10, activation='softmax')(dense)"
      ],
      "execution_count": 0,
      "outputs": []
    },
    {
      "cell_type": "code",
      "metadata": {
        "id": "vpOoj12v7Uod",
        "colab_type": "code",
        "colab": {
          "base_uri": "https://localhost:8080/",
          "height": 420
        },
        "outputId": "1733e7ec-4f3d-49a9-c782-dc71fddaf47f"
      },
      "source": [
        "model = Model(inputs=inp, outputs=out)\n",
        "model.compile(loss='categorical_crossentropy',optimizer='adam',metrics=['accuracy'])\n",
        "model.summary()"
      ],
      "execution_count": 10,
      "outputs": [
        {
          "output_type": "stream",
          "text": [
            "Model: \"model\"\n",
            "_________________________________________________________________\n",
            "Layer (type)                 Output Shape              Param #   \n",
            "=================================================================\n",
            "input_1 (InputLayer)         [(None, 28, 28, 1)]       0         \n",
            "_________________________________________________________________\n",
            "conv2d (Conv2D)              (None, 25, 25, 32)        544       \n",
            "_________________________________________________________________\n",
            "max_pooling2d (MaxPooling2D) (None, 12, 12, 32)        0         \n",
            "_________________________________________________________________\n",
            "conv2d_1 (Conv2D)            (None, 9, 9, 16)          8208      \n",
            "_________________________________________________________________\n",
            "max_pooling2d_1 (MaxPooling2 (None, 4, 4, 16)          0         \n",
            "_________________________________________________________________\n",
            "flatten (Flatten)            (None, 256)               0         \n",
            "_________________________________________________________________\n",
            "dense (Dense)                (None, 128)               32896     \n",
            "_________________________________________________________________\n",
            "dense_1 (Dense)              (None, 10)                1290      \n",
            "=================================================================\n",
            "Total params: 42,938\n",
            "Trainable params: 42,938\n",
            "Non-trainable params: 0\n",
            "_________________________________________________________________\n"
          ],
          "name": "stdout"
        }
      ]
    },
    {
      "cell_type": "code",
      "metadata": {
        "id": "7QtwBwFVBeDN",
        "colab_type": "code",
        "colab": {}
      },
      "source": [
        "model = load_model('CNN-MNIST-functional.h5')"
      ],
      "execution_count": 0,
      "outputs": []
    },
    {
      "cell_type": "code",
      "metadata": {
        "id": "21I6rwOchb4K",
        "colab_type": "code",
        "outputId": "6ac12795-418a-4fcd-9b0b-978f59ddc10f",
        "colab": {
          "base_uri": "https://localhost:8080/",
          "height": 1000
        }
      },
      "source": [
        "history=model.fit(X_train, Y_train, batch_size=25, epochs=50, validation_split=0.2,verbose=1)"
      ],
      "execution_count": 10,
      "outputs": [
        {
          "output_type": "stream",
          "text": [
            "Train on 16000 samples, validate on 4000 samples\n",
            "Epoch 1/50\n",
            "16000/16000 [==============================] - 6s 369us/sample - loss: 0.7492 - accuracy: 0.8512 - val_loss: 0.3200 - val_accuracy: 0.9085\n",
            "Epoch 2/50\n",
            "16000/16000 [==============================] - 4s 247us/sample - loss: 0.1761 - accuracy: 0.9506 - val_loss: 0.1597 - val_accuracy: 0.9555\n",
            "Epoch 3/50\n",
            "16000/16000 [==============================] - 4s 246us/sample - loss: 0.1059 - accuracy: 0.9691 - val_loss: 0.1407 - val_accuracy: 0.9622\n",
            "Epoch 4/50\n",
            "16000/16000 [==============================] - 4s 245us/sample - loss: 0.0925 - accuracy: 0.9722 - val_loss: 0.1288 - val_accuracy: 0.9657\n",
            "Epoch 5/50\n",
            "16000/16000 [==============================] - 4s 248us/sample - loss: 0.0726 - accuracy: 0.9771 - val_loss: 0.1562 - val_accuracy: 0.9575\n",
            "Epoch 6/50\n",
            "16000/16000 [==============================] - 4s 245us/sample - loss: 0.0561 - accuracy: 0.9824 - val_loss: 0.1398 - val_accuracy: 0.9707\n",
            "Epoch 7/50\n",
            "16000/16000 [==============================] - 4s 246us/sample - loss: 0.0557 - accuracy: 0.9822 - val_loss: 0.1262 - val_accuracy: 0.9690\n",
            "Epoch 8/50\n",
            "16000/16000 [==============================] - 4s 247us/sample - loss: 0.0586 - accuracy: 0.9826 - val_loss: 0.1406 - val_accuracy: 0.9703\n",
            "Epoch 9/50\n",
            "16000/16000 [==============================] - 4s 247us/sample - loss: 0.0426 - accuracy: 0.9871 - val_loss: 0.1583 - val_accuracy: 0.9700\n",
            "Epoch 10/50\n",
            "16000/16000 [==============================] - 4s 247us/sample - loss: 0.0436 - accuracy: 0.9876 - val_loss: 0.1720 - val_accuracy: 0.9655\n",
            "Epoch 11/50\n",
            "16000/16000 [==============================] - 4s 259us/sample - loss: 0.0325 - accuracy: 0.9901 - val_loss: 0.1543 - val_accuracy: 0.9695\n",
            "Epoch 12/50\n",
            "16000/16000 [==============================] - 4s 257us/sample - loss: 0.0438 - accuracy: 0.9874 - val_loss: 0.1441 - val_accuracy: 0.9762\n",
            "Epoch 13/50\n",
            "16000/16000 [==============================] - 4s 248us/sample - loss: 0.0275 - accuracy: 0.9904 - val_loss: 0.1633 - val_accuracy: 0.9735\n",
            "Epoch 14/50\n",
            "16000/16000 [==============================] - 4s 246us/sample - loss: 0.0330 - accuracy: 0.9914 - val_loss: 0.2161 - val_accuracy: 0.9645\n",
            "Epoch 15/50\n",
            "16000/16000 [==============================] - 4s 244us/sample - loss: 0.0358 - accuracy: 0.9899 - val_loss: 0.1341 - val_accuracy: 0.9783\n",
            "Epoch 16/50\n",
            "16000/16000 [==============================] - 4s 244us/sample - loss: 0.0281 - accuracy: 0.9921 - val_loss: 0.1927 - val_accuracy: 0.9758\n",
            "Epoch 17/50\n",
            "16000/16000 [==============================] - 4s 243us/sample - loss: 0.0300 - accuracy: 0.9916 - val_loss: 0.1690 - val_accuracy: 0.9770\n",
            "Epoch 18/50\n",
            "16000/16000 [==============================] - 4s 246us/sample - loss: 0.0356 - accuracy: 0.9910 - val_loss: 0.1904 - val_accuracy: 0.9740\n",
            "Epoch 19/50\n",
            "16000/16000 [==============================] - 4s 248us/sample - loss: 0.0270 - accuracy: 0.9924 - val_loss: 0.1832 - val_accuracy: 0.9772\n",
            "Epoch 20/50\n",
            "16000/16000 [==============================] - 4s 247us/sample - loss: 0.0209 - accuracy: 0.9949 - val_loss: 0.1982 - val_accuracy: 0.9760\n",
            "Epoch 21/50\n",
            "16000/16000 [==============================] - 4s 256us/sample - loss: 0.0155 - accuracy: 0.9965 - val_loss: 0.1757 - val_accuracy: 0.9765\n",
            "Epoch 22/50\n",
            "16000/16000 [==============================] - 4s 264us/sample - loss: 0.0342 - accuracy: 0.9929 - val_loss: 0.1983 - val_accuracy: 0.9775\n",
            "Epoch 23/50\n",
            "16000/16000 [==============================] - 4s 246us/sample - loss: 0.0339 - accuracy: 0.9927 - val_loss: 0.1607 - val_accuracy: 0.9762\n",
            "Epoch 24/50\n",
            "16000/16000 [==============================] - 4s 249us/sample - loss: 0.0129 - accuracy: 0.9967 - val_loss: 0.1512 - val_accuracy: 0.9772\n",
            "Epoch 25/50\n",
            "16000/16000 [==============================] - 4s 247us/sample - loss: 0.0171 - accuracy: 0.9958 - val_loss: 0.2396 - val_accuracy: 0.9735\n",
            "Epoch 26/50\n",
            "16000/16000 [==============================] - 4s 246us/sample - loss: 0.0459 - accuracy: 0.9918 - val_loss: 0.2989 - val_accuracy: 0.9690\n",
            "Epoch 27/50\n",
            "16000/16000 [==============================] - 4s 245us/sample - loss: 0.0237 - accuracy: 0.9943 - val_loss: 0.2041 - val_accuracy: 0.9818\n",
            "Epoch 28/50\n",
            "16000/16000 [==============================] - 4s 246us/sample - loss: 0.0200 - accuracy: 0.9957 - val_loss: 0.2507 - val_accuracy: 0.9728\n",
            "Epoch 29/50\n",
            "16000/16000 [==============================] - 4s 246us/sample - loss: 0.0317 - accuracy: 0.9938 - val_loss: 0.2199 - val_accuracy: 0.9808\n",
            "Epoch 30/50\n",
            "16000/16000 [==============================] - 4s 243us/sample - loss: 0.0224 - accuracy: 0.9946 - val_loss: 0.2465 - val_accuracy: 0.9755\n",
            "Epoch 31/50\n",
            "16000/16000 [==============================] - 4s 244us/sample - loss: 0.0219 - accuracy: 0.9960 - val_loss: 0.2481 - val_accuracy: 0.9787\n",
            "Epoch 32/50\n",
            "16000/16000 [==============================] - 4s 244us/sample - loss: 0.0264 - accuracy: 0.9949 - val_loss: 0.2573 - val_accuracy: 0.9780\n",
            "Epoch 33/50\n",
            "16000/16000 [==============================] - 4s 247us/sample - loss: 0.0350 - accuracy: 0.9933 - val_loss: 0.2120 - val_accuracy: 0.9785\n",
            "Epoch 34/50\n",
            "16000/16000 [==============================] - 4s 247us/sample - loss: 0.0114 - accuracy: 0.9969 - val_loss: 0.2004 - val_accuracy: 0.9818\n",
            "Epoch 35/50\n",
            "16000/16000 [==============================] - 4s 244us/sample - loss: 0.0161 - accuracy: 0.9961 - val_loss: 0.2491 - val_accuracy: 0.9790\n",
            "Epoch 36/50\n",
            "16000/16000 [==============================] - 4s 246us/sample - loss: 0.0244 - accuracy: 0.9961 - val_loss: 0.2665 - val_accuracy: 0.9787\n",
            "Epoch 37/50\n",
            "16000/16000 [==============================] - 4s 246us/sample - loss: 0.0285 - accuracy: 0.9954 - val_loss: 0.3541 - val_accuracy: 0.9753\n",
            "Epoch 38/50\n",
            "16000/16000 [==============================] - 4s 247us/sample - loss: 0.0277 - accuracy: 0.9949 - val_loss: 0.2678 - val_accuracy: 0.9812\n",
            "Epoch 39/50\n",
            "16000/16000 [==============================] - 4s 246us/sample - loss: 0.0282 - accuracy: 0.9946 - val_loss: 0.3015 - val_accuracy: 0.9770\n",
            "Epoch 40/50\n",
            "16000/16000 [==============================] - 4s 246us/sample - loss: 0.0179 - accuracy: 0.9966 - val_loss: 0.2706 - val_accuracy: 0.9787\n",
            "Epoch 41/50\n",
            "16000/16000 [==============================] - 4s 249us/sample - loss: 0.0226 - accuracy: 0.9964 - val_loss: 0.3228 - val_accuracy: 0.9775\n",
            "Epoch 42/50\n",
            "16000/16000 [==============================] - 4s 246us/sample - loss: 0.0283 - accuracy: 0.9963 - val_loss: 0.3279 - val_accuracy: 0.9790\n",
            "Epoch 43/50\n",
            "16000/16000 [==============================] - 4s 248us/sample - loss: 0.0542 - accuracy: 0.9933 - val_loss: 0.3009 - val_accuracy: 0.9753\n",
            "Epoch 44/50\n",
            "16000/16000 [==============================] - 4s 250us/sample - loss: 0.0096 - accuracy: 0.9983 - val_loss: 0.2781 - val_accuracy: 0.9795\n",
            "Epoch 45/50\n",
            "16000/16000 [==============================] - 4s 247us/sample - loss: 0.0159 - accuracy: 0.9972 - val_loss: 0.3603 - val_accuracy: 0.9808\n",
            "Epoch 46/50\n",
            "16000/16000 [==============================] - 4s 246us/sample - loss: 0.0226 - accuracy: 0.9963 - val_loss: 0.3277 - val_accuracy: 0.9793\n",
            "Epoch 47/50\n",
            "16000/16000 [==============================] - 4s 247us/sample - loss: 0.0233 - accuracy: 0.9962 - val_loss: 0.3968 - val_accuracy: 0.9750\n",
            "Epoch 48/50\n",
            "16000/16000 [==============================] - 4s 245us/sample - loss: 0.0296 - accuracy: 0.9962 - val_loss: 0.7129 - val_accuracy: 0.9668\n",
            "Epoch 49/50\n",
            "16000/16000 [==============================] - 4s 246us/sample - loss: 0.0332 - accuracy: 0.9955 - val_loss: 0.6079 - val_accuracy: 0.9745\n",
            "Epoch 50/50\n",
            "16000/16000 [==============================] - 4s 244us/sample - loss: 0.0294 - accuracy: 0.9966 - val_loss: 0.4670 - val_accuracy: 0.9780\n"
          ],
          "name": "stdout"
        }
      ]
    },
    {
      "cell_type": "code",
      "metadata": {
        "id": "a9lkzaR2qtOd",
        "colab_type": "code",
        "outputId": "86995859-7f34-4105-add3-041328039e23",
        "colab": {
          "base_uri": "https://localhost:8080/",
          "height": 295
        }
      },
      "source": [
        "plt.plot(history.history['loss'])\n",
        "plt.plot(history.history['val_loss'])\n",
        "plt.title('model loss')\n",
        "plt.ylabel('loss')\n",
        "plt.xlabel('epoch')\n",
        "plt.legend(['train', 'test'], loc='upper left')\n",
        "plt.show()"
      ],
      "execution_count": 11,
      "outputs": [
        {
          "output_type": "display_data",
          "data": {
            "image/png": "[encoded data removed]",
            "text/plain": [
              "<Figure size 432x288 with 1 Axes>"
            ]
          },
          "metadata": {
            "tags": []
          }
        }
      ]
    },
    {
      "cell_type": "code",
      "metadata": {
        "id": "P5MEN7DOAzUf",
        "colab_type": "code",
        "colab": {}
      },
      "source": [
        "model.save(\"CNN-MNIST-functional.h5\")"
      ],
      "execution_count": 0,
      "outputs": []
    },
    {
      "cell_type": "markdown",
      "metadata": {
        "id": "wJmYWqhf-Axu",
        "colab_type": "text"
      },
      "source": [
        "##TESTING##"
      ]
    },
    {
      "cell_type": "code",
      "metadata": {
        "id": "DbIhil92BLul",
        "colab_type": "code",
        "colab": {}
      },
      "source": [
        "image = X_train[0].astype(np.float32)"
      ],
      "execution_count": 0,
      "outputs": []
    },
    {
      "cell_type": "code",
      "metadata": {
        "id": "BMFOy5jDCp8K",
        "colab_type": "code",
        "colab": {
          "base_uri": "https://localhost:8080/",
          "height": 34
        },
        "outputId": "51a0b567-6990-400f-99af-0c4721e2d2f4"
      },
      "source": [
        "image.reshape(1,28,28,1).shape"
      ],
      "execution_count": 15,
      "outputs": [
        {
          "output_type": "execute_result",
          "data": {
            "text/plain": [
              "(1, 28, 28, 1)"
            ]
          },
          "metadata": {
            "tags": []
          },
          "execution_count": 15
        }
      ]
    },
    {
      "cell_type": "code",
      "metadata": {
        "id": "Qe-9MEWJ9Xm1",
        "colab_type": "code",
        "colab": {}
      },
      "source": [
        "pred=model.predict(image.reshape(1,28,28,1))"
      ],
      "execution_count": 0,
      "outputs": []
    },
    {
      "cell_type": "code",
      "metadata": {
        "id": "m376kOy4C0jn",
        "colab_type": "code",
        "colab": {
          "base_uri": "https://localhost:8080/",
          "height": 34
        },
        "outputId": "3d0afe70-e86b-4cb3-80e6-80ba29bac5f6"
      },
      "source": [
        "np.argmax(pred)"
      ],
      "execution_count": 19,
      "outputs": [
        {
          "output_type": "execute_result",
          "data": {
            "text/plain": [
              "6"
            ]
          },
          "metadata": {
            "tags": []
          },
          "execution_count": 19
        }
      ]
    },
    {
      "cell_type": "code",
      "metadata": {
        "id": "wWeXg2r5cQHO",
        "colab_type": "code",
        "outputId": "6718cb63-7724-4069-8c1e-242640c533b5",
        "colab": {
          "base_uri": "https://localhost:8080/",
          "height": 282
        }
      },
      "source": [
        "plt.gray()\n",
        "plt.imshow(X_train[0].reshape(28,28))"
      ],
      "execution_count": 20,
      "outputs": [
        {
          "output_type": "execute_result",
          "data": {
            "text/plain": [
              "<matplotlib.image.AxesImage at 0x7ff441176208>"
            ]
          },
          "metadata": {
            "tags": []
          },
          "execution_count": 20
        },
        {
          "output_type": "display_data",
          "data": {
            "image/png": "[encoded data removed]",
            "text/plain": [
              "<Figure size 432x288 with 1 Axes>"
            ]
          },
          "metadata": {
            "tags": []
          }
        }
      ]
    },
    {
      "cell_type": "code",
      "metadata": {
        "id": "byeISx5XDGOt",
        "colab_type": "code",
        "colab": {
          "base_uri": "https://localhost:8080/",
          "height": 218
        },
        "outputId": "703f2e69-7ec9-4511-a1ff-e8c597223a32"
      },
      "source": [
        "model = Model(inputs=inp, outputs=conv1)\n",
        "model.summary()"
      ],
      "execution_count": 26,
      "outputs": [
        {
          "output_type": "stream",
          "text": [
            "Model: \"model_2\"\n",
            "_________________________________________________________________\n",
            "Layer (type)                 Output Shape              Param #   \n",
            "=================================================================\n",
            "input_1 (InputLayer)         [(None, 28, 28, 1)]       0         \n",
            "_________________________________________________________________\n",
            "conv2d (Conv2D)              (None, 25, 25, 32)        544       \n",
            "=================================================================\n",
            "Total params: 544\n",
            "Trainable params: 544\n",
            "Non-trainable params: 0\n",
            "_________________________________________________________________\n"
          ],
          "name": "stdout"
        }
      ]
    },
    {
      "cell_type": "code",
      "metadata": {
        "id": "qz-bB54zDKnu",
        "colab_type": "code",
        "colab": {}
      },
      "source": [
        "pred=model.predict(image.reshape(1,28,28,1))"
      ],
      "execution_count": 0,
      "outputs": []
    },
    {
      "cell_type": "code",
      "metadata": {
        "id": "XCBUxtOwDPNy",
        "colab_type": "code",
        "colab": {
          "base_uri": "https://localhost:8080/",
          "height": 34
        },
        "outputId": "91672bf0-c9ef-4ea2-8def-10cedfe41af6"
      },
      "source": [
        "pred.shape"
      ],
      "execution_count": 28,
      "outputs": [
        {
          "output_type": "execute_result",
          "data": {
            "text/plain": [
              "(1, 25, 25, 32)"
            ]
          },
          "metadata": {
            "tags": []
          },
          "execution_count": 28
        }
      ]
    },
    {
      "cell_type": "code",
      "metadata": {
        "id": "nU-rNzJQDUXs",
        "colab_type": "code",
        "colab": {
          "base_uri": "https://localhost:8080/",
          "height": 282
        },
        "outputId": "cba2f295-f92f-48d3-ea27-02f34c0c4bd1"
      },
      "source": [
        "plt.imshow(pred.reshape(25,25,32)[:,:,4])"
      ],
      "execution_count": 32,
      "outputs": [
        {
          "output_type": "execute_result",
          "data": {
            "text/plain": [
              "<matplotlib.image.AxesImage at 0x7ff4409c9160>"
            ]
          },
          "metadata": {
            "tags": []
          },
          "execution_count": 32
        },
        {
          "output_type": "display_data",
          "data": {
            "image/png": "[encoded data removed]",
            "text/plain": [
              "<Figure size 432x288 with 1 Axes>"
            ]
          },
          "metadata": {
            "tags": []
          }
        }
      ]
    },
    {
      "cell_type": "code",
      "metadata": {
        "id": "mxxdP1rgEUUg",
        "colab_type": "code",
        "colab": {}
      },
      "source": [
        "fig, ax = plt.subplots(nrows=8, ncols=7)#, figsize=(20, 10)\n",
        "i,j=0,0\n",
        "for ii in range(32):\n",
        "    ax[0].plot(2)#.imshow(pred.reshape(25,25,32)[:,:,ii])\n",
        "    # j=j+1\n",
        "    # if(ii%3==0):\n",
        "    #     i=i+1\n",
        "    #     j=0"
      ],
      "execution_count": 0,
      "outputs": []
    }
  ]
}