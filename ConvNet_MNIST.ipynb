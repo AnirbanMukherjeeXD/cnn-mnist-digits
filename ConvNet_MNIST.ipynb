{
  "nbformat": 4,
  "nbformat_minor": 0,
  "metadata": {
    "colab": {
      "name": "ConvNet-MNIST.ipynb",
      "version": "0.3.2",
      "provenance": [],
      "collapsed_sections": [],
      "toc_visible": true,
      "include_colab_link": true
    },
    "kernelspec": {
      "name": "python3",
      "display_name": "Python 3"
    },
    "accelerator": "GPU"
  },
  "cells": [
    {
      "cell_type": "markdown",
      "metadata": {
        "id": "view-in-github",
        "colab_type": "text"
      },
      "source": [
        "<a href=\"https://colab.research.google.com/github/AnirbanMukherjeeXD/cnn-mnist-digits/blob/master/ConvNet_MNIST.ipynb\" target=\"_parent\"><img src=\"https://colab.research.google.com/assets/colab-badge.svg\" alt=\"Open In Colab\"/></a>"
      ]
    },
    {
      "cell_type": "code",
      "metadata": {
        "id": "4BSGL6A-3Ura",
        "colab_type": "code",
        "colab": {}
      },
      "source": [
        "import pandas as pd\n",
        "import matplotlib.pyplot as plt\n",
        "import numpy as np\n",
        "import cv2"
      ],
      "execution_count": 0,
      "outputs": []
    },
    {
      "cell_type": "code",
      "metadata": {
        "id": "foaT0D_kClHT",
        "colab_type": "code",
        "colab": {}
      },
      "source": [
        "dataset=pd.read_csv('sample_data/mnist_train_small.csv',header=None)\n",
        "dataset_test=pd.read_csv('sample_data/mnist_test.csv',header=None)"
      ],
      "execution_count": 0,
      "outputs": []
    },
    {
      "cell_type": "code",
      "metadata": {
        "id": "9Rt4I6JODZRZ",
        "colab_type": "code",
        "outputId": "2243eb69-be99-4027-b947-68b2131f9b30",
        "colab": {
          "base_uri": "https://localhost:8080/",
          "height": 244
        }
      },
      "source": [
        "dataset.head()"
      ],
      "execution_count": 3,
      "outputs": [
        {
          "output_type": "execute_result",
          "data": {
            "text/html": [
              "<div>\n",
              "<style scoped>\n",
              "    .dataframe tbody tr th:only-of-type {\n",
              "        vertical-align: middle;\n",
              "    }\n",
              "\n",
              "    .dataframe tbody tr th {\n",
              "        vertical-align: top;\n",
              "    }\n",
              "\n",
              "    .dataframe thead th {\n",
              "        text-align: right;\n",
              "    }\n",
              "</style>\n",
              "<table border=\"1\" class=\"dataframe\">\n",
              "  <thead>\n",
              "    <tr style=\"text-align: right;\">\n",
              "      <th></th>\n",
              "      <th>0</th>\n",
              "      <th>1</th>\n",
              "      <th>2</th>\n",
              "      <th>3</th>\n",
              "      <th>4</th>\n",
              "      <th>5</th>\n",
              "      <th>6</th>\n",
              "      <th>7</th>\n",
              "      <th>8</th>\n",
              "      <th>9</th>\n",
              "      <th>10</th>\n",
              "      <th>11</th>\n",
              "      <th>12</th>\n",
              "      <th>13</th>\n",
              "      <th>14</th>\n",
              "      <th>15</th>\n",
              "      <th>16</th>\n",
              "      <th>17</th>\n",
              "      <th>18</th>\n",
              "      <th>19</th>\n",
              "      <th>20</th>\n",
              "      <th>21</th>\n",
              "      <th>22</th>\n",
              "      <th>23</th>\n",
              "      <th>24</th>\n",
              "      <th>25</th>\n",
              "      <th>26</th>\n",
              "      <th>27</th>\n",
              "      <th>28</th>\n",
              "      <th>29</th>\n",
              "      <th>30</th>\n",
              "      <th>31</th>\n",
              "      <th>32</th>\n",
              "      <th>33</th>\n",
              "      <th>34</th>\n",
              "      <th>35</th>\n",
              "      <th>36</th>\n",
              "      <th>37</th>\n",
              "      <th>38</th>\n",
              "      <th>39</th>\n",
              "      <th>...</th>\n",
              "      <th>745</th>\n",
              "      <th>746</th>\n",
              "      <th>747</th>\n",
              "      <th>748</th>\n",
              "      <th>749</th>\n",
              "      <th>750</th>\n",
              "      <th>751</th>\n",
              "      <th>752</th>\n",
              "      <th>753</th>\n",
              "      <th>754</th>\n",
              "      <th>755</th>\n",
              "      <th>756</th>\n",
              "      <th>757</th>\n",
              "      <th>758</th>\n",
              "      <th>759</th>\n",
              "      <th>760</th>\n",
              "      <th>761</th>\n",
              "      <th>762</th>\n",
              "      <th>763</th>\n",
              "      <th>764</th>\n",
              "      <th>765</th>\n",
              "      <th>766</th>\n",
              "      <th>767</th>\n",
              "      <th>768</th>\n",
              "      <th>769</th>\n",
              "      <th>770</th>\n",
              "      <th>771</th>\n",
              "      <th>772</th>\n",
              "      <th>773</th>\n",
              "      <th>774</th>\n",
              "      <th>775</th>\n",
              "      <th>776</th>\n",
              "      <th>777</th>\n",
              "      <th>778</th>\n",
              "      <th>779</th>\n",
              "      <th>780</th>\n",
              "      <th>781</th>\n",
              "      <th>782</th>\n",
              "      <th>783</th>\n",
              "      <th>784</th>\n",
              "    </tr>\n",
              "  </thead>\n",
              "  <tbody>\n",
              "    <tr>\n",
              "      <th>0</th>\n",
              "      <td>6</td>\n",
              "      <td>0</td>\n",
              "      <td>0</td>\n",
              "      <td>0</td>\n",
              "      <td>0</td>\n",
              "      <td>0</td>\n",
              "      <td>0</td>\n",
              "      <td>0</td>\n",
              "      <td>0</td>\n",
              "      <td>0</td>\n",
              "      <td>0</td>\n",
              "      <td>0</td>\n",
              "      <td>0</td>\n",
              "      <td>0</td>\n",
              "      <td>0</td>\n",
              "      <td>0</td>\n",
              "      <td>0</td>\n",
              "      <td>0</td>\n",
              "      <td>0</td>\n",
              "      <td>0</td>\n",
              "      <td>0</td>\n",
              "      <td>0</td>\n",
              "      <td>0</td>\n",
              "      <td>0</td>\n",
              "      <td>0</td>\n",
              "      <td>0</td>\n",
              "      <td>0</td>\n",
              "      <td>0</td>\n",
              "      <td>0</td>\n",
              "      <td>0</td>\n",
              "      <td>0</td>\n",
              "      <td>0</td>\n",
              "      <td>0</td>\n",
              "      <td>0</td>\n",
              "      <td>0</td>\n",
              "      <td>0</td>\n",
              "      <td>0</td>\n",
              "      <td>0</td>\n",
              "      <td>0</td>\n",
              "      <td>0</td>\n",
              "      <td>...</td>\n",
              "      <td>0</td>\n",
              "      <td>0</td>\n",
              "      <td>0</td>\n",
              "      <td>0</td>\n",
              "      <td>0</td>\n",
              "      <td>0</td>\n",
              "      <td>0</td>\n",
              "      <td>0</td>\n",
              "      <td>0</td>\n",
              "      <td>0</td>\n",
              "      <td>0</td>\n",
              "      <td>0</td>\n",
              "      <td>0</td>\n",
              "      <td>0</td>\n",
              "      <td>0</td>\n",
              "      <td>0</td>\n",
              "      <td>0</td>\n",
              "      <td>0</td>\n",
              "      <td>0</td>\n",
              "      <td>0</td>\n",
              "      <td>0</td>\n",
              "      <td>0</td>\n",
              "      <td>0</td>\n",
              "      <td>0</td>\n",
              "      <td>0</td>\n",
              "      <td>0</td>\n",
              "      <td>0</td>\n",
              "      <td>0</td>\n",
              "      <td>0</td>\n",
              "      <td>0</td>\n",
              "      <td>0</td>\n",
              "      <td>0</td>\n",
              "      <td>0</td>\n",
              "      <td>0</td>\n",
              "      <td>0</td>\n",
              "      <td>0</td>\n",
              "      <td>0</td>\n",
              "      <td>0</td>\n",
              "      <td>0</td>\n",
              "      <td>0</td>\n",
              "    </tr>\n",
              "    <tr>\n",
              "      <th>1</th>\n",
              "      <td>5</td>\n",
              "      <td>0</td>\n",
              "      <td>0</td>\n",
              "      <td>0</td>\n",
              "      <td>0</td>\n",
              "      <td>0</td>\n",
              "      <td>0</td>\n",
              "      <td>0</td>\n",
              "      <td>0</td>\n",
              "      <td>0</td>\n",
              "      <td>0</td>\n",
              "      <td>0</td>\n",
              "      <td>0</td>\n",
              "      <td>0</td>\n",
              "      <td>0</td>\n",
              "      <td>0</td>\n",
              "      <td>0</td>\n",
              "      <td>0</td>\n",
              "      <td>0</td>\n",
              "      <td>0</td>\n",
              "      <td>0</td>\n",
              "      <td>0</td>\n",
              "      <td>0</td>\n",
              "      <td>0</td>\n",
              "      <td>0</td>\n",
              "      <td>0</td>\n",
              "      <td>0</td>\n",
              "      <td>0</td>\n",
              "      <td>0</td>\n",
              "      <td>0</td>\n",
              "      <td>0</td>\n",
              "      <td>0</td>\n",
              "      <td>0</td>\n",
              "      <td>0</td>\n",
              "      <td>0</td>\n",
              "      <td>0</td>\n",
              "      <td>0</td>\n",
              "      <td>0</td>\n",
              "      <td>0</td>\n",
              "      <td>0</td>\n",
              "      <td>...</td>\n",
              "      <td>0</td>\n",
              "      <td>0</td>\n",
              "      <td>0</td>\n",
              "      <td>0</td>\n",
              "      <td>0</td>\n",
              "      <td>0</td>\n",
              "      <td>0</td>\n",
              "      <td>0</td>\n",
              "      <td>0</td>\n",
              "      <td>0</td>\n",
              "      <td>0</td>\n",
              "      <td>0</td>\n",
              "      <td>0</td>\n",
              "      <td>0</td>\n",
              "      <td>0</td>\n",
              "      <td>0</td>\n",
              "      <td>0</td>\n",
              "      <td>0</td>\n",
              "      <td>0</td>\n",
              "      <td>0</td>\n",
              "      <td>0</td>\n",
              "      <td>0</td>\n",
              "      <td>0</td>\n",
              "      <td>0</td>\n",
              "      <td>0</td>\n",
              "      <td>0</td>\n",
              "      <td>0</td>\n",
              "      <td>0</td>\n",
              "      <td>0</td>\n",
              "      <td>0</td>\n",
              "      <td>0</td>\n",
              "      <td>0</td>\n",
              "      <td>0</td>\n",
              "      <td>0</td>\n",
              "      <td>0</td>\n",
              "      <td>0</td>\n",
              "      <td>0</td>\n",
              "      <td>0</td>\n",
              "      <td>0</td>\n",
              "      <td>0</td>\n",
              "    </tr>\n",
              "    <tr>\n",
              "      <th>2</th>\n",
              "      <td>7</td>\n",
              "      <td>0</td>\n",
              "      <td>0</td>\n",
              "      <td>0</td>\n",
              "      <td>0</td>\n",
              "      <td>0</td>\n",
              "      <td>0</td>\n",
              "      <td>0</td>\n",
              "      <td>0</td>\n",
              "      <td>0</td>\n",
              "      <td>0</td>\n",
              "      <td>0</td>\n",
              "      <td>0</td>\n",
              "      <td>0</td>\n",
              "      <td>0</td>\n",
              "      <td>0</td>\n",
              "      <td>0</td>\n",
              "      <td>0</td>\n",
              "      <td>0</td>\n",
              "      <td>0</td>\n",
              "      <td>0</td>\n",
              "      <td>0</td>\n",
              "      <td>0</td>\n",
              "      <td>0</td>\n",
              "      <td>0</td>\n",
              "      <td>0</td>\n",
              "      <td>0</td>\n",
              "      <td>0</td>\n",
              "      <td>0</td>\n",
              "      <td>0</td>\n",
              "      <td>0</td>\n",
              "      <td>0</td>\n",
              "      <td>0</td>\n",
              "      <td>0</td>\n",
              "      <td>0</td>\n",
              "      <td>0</td>\n",
              "      <td>0</td>\n",
              "      <td>0</td>\n",
              "      <td>0</td>\n",
              "      <td>0</td>\n",
              "      <td>...</td>\n",
              "      <td>0</td>\n",
              "      <td>0</td>\n",
              "      <td>0</td>\n",
              "      <td>0</td>\n",
              "      <td>0</td>\n",
              "      <td>0</td>\n",
              "      <td>0</td>\n",
              "      <td>0</td>\n",
              "      <td>0</td>\n",
              "      <td>0</td>\n",
              "      <td>0</td>\n",
              "      <td>0</td>\n",
              "      <td>0</td>\n",
              "      <td>0</td>\n",
              "      <td>0</td>\n",
              "      <td>0</td>\n",
              "      <td>0</td>\n",
              "      <td>0</td>\n",
              "      <td>0</td>\n",
              "      <td>0</td>\n",
              "      <td>0</td>\n",
              "      <td>0</td>\n",
              "      <td>0</td>\n",
              "      <td>0</td>\n",
              "      <td>0</td>\n",
              "      <td>0</td>\n",
              "      <td>0</td>\n",
              "      <td>0</td>\n",
              "      <td>0</td>\n",
              "      <td>0</td>\n",
              "      <td>0</td>\n",
              "      <td>0</td>\n",
              "      <td>0</td>\n",
              "      <td>0</td>\n",
              "      <td>0</td>\n",
              "      <td>0</td>\n",
              "      <td>0</td>\n",
              "      <td>0</td>\n",
              "      <td>0</td>\n",
              "      <td>0</td>\n",
              "    </tr>\n",
              "    <tr>\n",
              "      <th>3</th>\n",
              "      <td>9</td>\n",
              "      <td>0</td>\n",
              "      <td>0</td>\n",
              "      <td>0</td>\n",
              "      <td>0</td>\n",
              "      <td>0</td>\n",
              "      <td>0</td>\n",
              "      <td>0</td>\n",
              "      <td>0</td>\n",
              "      <td>0</td>\n",
              "      <td>0</td>\n",
              "      <td>0</td>\n",
              "      <td>0</td>\n",
              "      <td>0</td>\n",
              "      <td>0</td>\n",
              "      <td>0</td>\n",
              "      <td>0</td>\n",
              "      <td>0</td>\n",
              "      <td>0</td>\n",
              "      <td>0</td>\n",
              "      <td>0</td>\n",
              "      <td>0</td>\n",
              "      <td>0</td>\n",
              "      <td>0</td>\n",
              "      <td>0</td>\n",
              "      <td>0</td>\n",
              "      <td>0</td>\n",
              "      <td>0</td>\n",
              "      <td>0</td>\n",
              "      <td>0</td>\n",
              "      <td>0</td>\n",
              "      <td>0</td>\n",
              "      <td>0</td>\n",
              "      <td>0</td>\n",
              "      <td>0</td>\n",
              "      <td>0</td>\n",
              "      <td>0</td>\n",
              "      <td>0</td>\n",
              "      <td>0</td>\n",
              "      <td>0</td>\n",
              "      <td>...</td>\n",
              "      <td>15</td>\n",
              "      <td>0</td>\n",
              "      <td>0</td>\n",
              "      <td>0</td>\n",
              "      <td>0</td>\n",
              "      <td>0</td>\n",
              "      <td>0</td>\n",
              "      <td>0</td>\n",
              "      <td>0</td>\n",
              "      <td>0</td>\n",
              "      <td>0</td>\n",
              "      <td>0</td>\n",
              "      <td>0</td>\n",
              "      <td>0</td>\n",
              "      <td>0</td>\n",
              "      <td>0</td>\n",
              "      <td>0</td>\n",
              "      <td>0</td>\n",
              "      <td>0</td>\n",
              "      <td>0</td>\n",
              "      <td>0</td>\n",
              "      <td>0</td>\n",
              "      <td>0</td>\n",
              "      <td>0</td>\n",
              "      <td>0</td>\n",
              "      <td>0</td>\n",
              "      <td>0</td>\n",
              "      <td>0</td>\n",
              "      <td>0</td>\n",
              "      <td>0</td>\n",
              "      <td>0</td>\n",
              "      <td>0</td>\n",
              "      <td>0</td>\n",
              "      <td>0</td>\n",
              "      <td>0</td>\n",
              "      <td>0</td>\n",
              "      <td>0</td>\n",
              "      <td>0</td>\n",
              "      <td>0</td>\n",
              "      <td>0</td>\n",
              "    </tr>\n",
              "    <tr>\n",
              "      <th>4</th>\n",
              "      <td>5</td>\n",
              "      <td>0</td>\n",
              "      <td>0</td>\n",
              "      <td>0</td>\n",
              "      <td>0</td>\n",
              "      <td>0</td>\n",
              "      <td>0</td>\n",
              "      <td>0</td>\n",
              "      <td>0</td>\n",
              "      <td>0</td>\n",
              "      <td>0</td>\n",
              "      <td>0</td>\n",
              "      <td>0</td>\n",
              "      <td>0</td>\n",
              "      <td>0</td>\n",
              "      <td>0</td>\n",
              "      <td>0</td>\n",
              "      <td>0</td>\n",
              "      <td>0</td>\n",
              "      <td>0</td>\n",
              "      <td>0</td>\n",
              "      <td>0</td>\n",
              "      <td>0</td>\n",
              "      <td>0</td>\n",
              "      <td>0</td>\n",
              "      <td>0</td>\n",
              "      <td>0</td>\n",
              "      <td>0</td>\n",
              "      <td>0</td>\n",
              "      <td>0</td>\n",
              "      <td>0</td>\n",
              "      <td>0</td>\n",
              "      <td>0</td>\n",
              "      <td>0</td>\n",
              "      <td>0</td>\n",
              "      <td>0</td>\n",
              "      <td>0</td>\n",
              "      <td>0</td>\n",
              "      <td>0</td>\n",
              "      <td>0</td>\n",
              "      <td>...</td>\n",
              "      <td>0</td>\n",
              "      <td>0</td>\n",
              "      <td>0</td>\n",
              "      <td>0</td>\n",
              "      <td>0</td>\n",
              "      <td>0</td>\n",
              "      <td>0</td>\n",
              "      <td>0</td>\n",
              "      <td>0</td>\n",
              "      <td>0</td>\n",
              "      <td>0</td>\n",
              "      <td>0</td>\n",
              "      <td>0</td>\n",
              "      <td>0</td>\n",
              "      <td>0</td>\n",
              "      <td>0</td>\n",
              "      <td>0</td>\n",
              "      <td>0</td>\n",
              "      <td>0</td>\n",
              "      <td>0</td>\n",
              "      <td>0</td>\n",
              "      <td>0</td>\n",
              "      <td>0</td>\n",
              "      <td>0</td>\n",
              "      <td>0</td>\n",
              "      <td>0</td>\n",
              "      <td>0</td>\n",
              "      <td>0</td>\n",
              "      <td>0</td>\n",
              "      <td>0</td>\n",
              "      <td>0</td>\n",
              "      <td>0</td>\n",
              "      <td>0</td>\n",
              "      <td>0</td>\n",
              "      <td>0</td>\n",
              "      <td>0</td>\n",
              "      <td>0</td>\n",
              "      <td>0</td>\n",
              "      <td>0</td>\n",
              "      <td>0</td>\n",
              "    </tr>\n",
              "  </tbody>\n",
              "</table>\n",
              "<p>5 rows × 785 columns</p>\n",
              "</div>"
            ],
            "text/plain": [
              "   0    1    2    3    4    5    6    ...  778  779  780  781  782  783  784\n",
              "0    6    0    0    0    0    0    0  ...    0    0    0    0    0    0    0\n",
              "1    5    0    0    0    0    0    0  ...    0    0    0    0    0    0    0\n",
              "2    7    0    0    0    0    0    0  ...    0    0    0    0    0    0    0\n",
              "3    9    0    0    0    0    0    0  ...    0    0    0    0    0    0    0\n",
              "4    5    0    0    0    0    0    0  ...    0    0    0    0    0    0    0\n",
              "\n",
              "[5 rows x 785 columns]"
            ]
          },
          "metadata": {
            "tags": []
          },
          "execution_count": 3
        }
      ]
    },
    {
      "cell_type": "markdown",
      "metadata": {
        "id": "yBcwbUGSaTiG",
        "colab_type": "text"
      },
      "source": [
        "\n",
        "\n",
        "*   First column is the output\n",
        "*   Other columns 784 Columns = 28 x 28 pixels \n",
        "\n"
      ]
    },
    {
      "cell_type": "code",
      "metadata": {
        "id": "HqRi5zNnBq7i",
        "colab_type": "code",
        "colab": {}
      },
      "source": [
        "X_train=dataset.iloc[:,1:].values.reshape(dataset.iloc[:,1:].shape[0],28,28,1)\n",
        "Y_train=dataset.iloc[:,0].values"
      ],
      "execution_count": 0,
      "outputs": []
    },
    {
      "cell_type": "code",
      "metadata": {
        "id": "KcJ7wYn-o_48",
        "colab_type": "code",
        "colab": {}
      },
      "source": [
        "X_test=dataset_test.iloc[:,1:].values.reshape(dataset_test.iloc[:,1:].shape[0],28,28,1)\n",
        "Y_test=dataset_test.iloc[:,0].values"
      ],
      "execution_count": 0,
      "outputs": []
    },
    {
      "cell_type": "code",
      "metadata": {
        "id": "GYYiTciRCjVW",
        "colab_type": "code",
        "outputId": "09319db9-b3a8-406b-ba6b-fb521b2a7bff",
        "colab": {
          "base_uri": "https://localhost:8080/",
          "height": 34
        }
      },
      "source": [
        "X_train.shape"
      ],
      "execution_count": 7,
      "outputs": [
        {
          "output_type": "execute_result",
          "data": {
            "text/plain": [
              "(20000, 28, 28, 1)"
            ]
          },
          "metadata": {
            "tags": []
          },
          "execution_count": 7
        }
      ]
    },
    {
      "cell_type": "code",
      "metadata": {
        "id": "5_dJAmnupQoq",
        "colab_type": "code",
        "outputId": "303cb2dd-0ca5-4b06-f11b-1c255cd9e09a",
        "colab": {
          "base_uri": "https://localhost:8080/",
          "height": 34
        }
      },
      "source": [
        "X_test.shape"
      ],
      "execution_count": 0,
      "outputs": [
        {
          "output_type": "execute_result",
          "data": {
            "text/plain": [
              "(10000, 28, 28, 1)"
            ]
          },
          "metadata": {
            "tags": []
          },
          "execution_count": 22
        }
      ]
    },
    {
      "cell_type": "code",
      "metadata": {
        "id": "AOW4oIDzCtcz",
        "colab_type": "code",
        "outputId": "512a0e50-0518-4d87-f288-8a6045fe2631",
        "colab": {
          "base_uri": "https://localhost:8080/",
          "height": 286
        }
      },
      "source": [
        "plt.gray()\n",
        "plt.imshow(X_train[0].reshape(28,28))"
      ],
      "execution_count": 8,
      "outputs": [
        {
          "output_type": "execute_result",
          "data": {
            "text/plain": [
              "<matplotlib.image.AxesImage at 0x7f2576902978>"
            ]
          },
          "metadata": {
            "tags": []
          },
          "execution_count": 8
        },
        {
          "output_type": "display_data",
          "data": {
            "image/png": "[encoded data removed]",
            "text/plain": [
              "<Figure size 432x288 with 1 Axes>"
            ]
          },
          "metadata": {
            "tags": []
          }
        }
      ]
    },
    {
      "cell_type": "code",
      "metadata": {
        "id": "WNrBbD3UM5tZ",
        "colab_type": "code",
        "colab": {}
      },
      "source": [
        "img=np.array(X_train[0].reshape(28,28))"
      ],
      "execution_count": 0,
      "outputs": []
    },
    {
      "cell_type": "markdown",
      "metadata": {
        "id": "odycfqAoRSYF",
        "colab_type": "text"
      },
      "source": [
        "**AVERAGE POOLING**"
      ]
    },
    {
      "cell_type": "code",
      "metadata": {
        "id": "oOFm2gutQMJb",
        "colab_type": "code",
        "outputId": "f94099b7-a874-43d6-b8c8-80bce2a77ced",
        "colab": {
          "base_uri": "https://localhost:8080/",
          "height": 302
        }
      },
      "source": [
        "plt.gray()\n",
        "pool_size=3\n",
        "\n",
        "pool1=[]\n",
        "\n",
        "for i in range(0,28,pool_size):\n",
        "  r=[]\n",
        "  for j in range(0,28,pool_size):\n",
        "    val=0\n",
        "    for p1 in range(pool_size):\n",
        "      for p2 in range(pool_size):\n",
        "        if(i+p1<28 and j+p2<28):\n",
        "          val+=img[i+p1][j+p2]\n",
        "    r.append(val/pool_size)\n",
        "  pool1.append(r)\n",
        "print(np.array(pool1).shape)\n",
        "plt.imshow(pool1)"
      ],
      "execution_count": 10,
      "outputs": [
        {
          "output_type": "stream",
          "text": [
            "(10, 10)\n"
          ],
          "name": "stdout"
        },
        {
          "output_type": "execute_result",
          "data": {
            "text/plain": [
              "<matplotlib.image.AxesImage at 0x7f586b96c978>"
            ]
          },
          "metadata": {
            "tags": []
          },
          "execution_count": 10
        },
        {
          "output_type": "display_data",
          "data": {
            "image/png": "[encoded data removed]",
            "text/plain": [
              "<Figure size 432x288 with 1 Axes>"
            ]
          },
          "metadata": {
            "tags": []
          }
        }
      ]
    },
    {
      "cell_type": "markdown",
      "metadata": {
        "id": "Ccbad9DxRWvg",
        "colab_type": "text"
      },
      "source": [
        "**MAX POOLING**"
      ]
    },
    {
      "cell_type": "code",
      "metadata": {
        "id": "6Z9X8W-mRZLe",
        "colab_type": "code",
        "outputId": "99b53789-832a-4d70-e4a4-4ac06d10c70b",
        "colab": {
          "base_uri": "https://localhost:8080/",
          "height": 302
        }
      },
      "source": [
        "pool_size=3\n",
        "\n",
        "pool2=[]\n",
        "\n",
        "for i in range(0,28,pool_size):\n",
        "  r=[]\n",
        "  for j in range(0,28,pool_size):\n",
        "    val=[]\n",
        "    for p1 in range(pool_size):\n",
        "      for p2 in range(pool_size):\n",
        "        if(i+p1<28 and j+p2<28):\n",
        "          val.append(img[i+p1][j+p2])\n",
        "    r.append(max(val))\n",
        "  pool2.append(r)\n",
        "print(np.array(pool2).shape)\n",
        "plt.imshow(pool2)"
      ],
      "execution_count": 11,
      "outputs": [
        {
          "output_type": "stream",
          "text": [
            "(10, 10)\n"
          ],
          "name": "stdout"
        },
        {
          "output_type": "execute_result",
          "data": {
            "text/plain": [
              "<matplotlib.image.AxesImage at 0x7f586b8c6e80>"
            ]
          },
          "metadata": {
            "tags": []
          },
          "execution_count": 11
        },
        {
          "output_type": "display_data",
          "data": {
            "image/png": "[encoded data removed]",
            "text/plain": [
              "<Figure size 432x288 with 1 Axes>"
            ]
          },
          "metadata": {
            "tags": []
          }
        }
      ]
    },
    {
      "cell_type": "markdown",
      "metadata": {
        "id": "p04vcpDtTOdu",
        "colab_type": "text"
      },
      "source": [
        "**OVERLAPPING MAX POOL**"
      ]
    },
    {
      "cell_type": "code",
      "metadata": {
        "id": "A70Jbnh2S4tQ",
        "colab_type": "code",
        "outputId": "610c5e13-5f12-4544-fdc4-e9092dd1a36c",
        "colab": {
          "base_uri": "https://localhost:8080/",
          "height": 302
        }
      },
      "source": [
        "pool_size=3\n",
        "\n",
        "pool3=[]\n",
        "\n",
        "for i in range(0,28,2):\n",
        "  r=[]\n",
        "  for j in range(0,28,2):\n",
        "    val=0\n",
        "    for p1 in range(pool_size):\n",
        "      for p2 in range(pool_size):\n",
        "        if(i+p1<28 and j+p2<28):\n",
        "          val+=img[i+p1][j+p2]\n",
        "    r.append(val/pool_size)\n",
        "  pool3.append(r)\n",
        "print(np.array(pool3).shape)\n",
        "plt.imshow(pool3)"
      ],
      "execution_count": 12,
      "outputs": [
        {
          "output_type": "stream",
          "text": [
            "(14, 14)\n"
          ],
          "name": "stdout"
        },
        {
          "output_type": "execute_result",
          "data": {
            "text/plain": [
              "<matplotlib.image.AxesImage at 0x7f586b8a30f0>"
            ]
          },
          "metadata": {
            "tags": []
          },
          "execution_count": 12
        },
        {
          "output_type": "display_data",
          "data": {
            "image/png": "[encoded data removed]",
            "text/plain": [
              "<Figure size 432x288 with 1 Axes>"
            ]
          },
          "metadata": {
            "tags": []
          }
        }
      ]
    },
    {
      "cell_type": "code",
      "metadata": {
        "id": "cDEwtbQ1Wp31",
        "colab_type": "code",
        "outputId": "0ebe70a2-1e9d-4607-c162-8e92fdb81954",
        "colab": {
          "base_uri": "https://localhost:8080/",
          "height": 228
        }
      },
      "source": [
        "fig, (ax1, ax2, ax3) = plt.subplots(1,3,figsize=(10,10))\n",
        "\n",
        "ax1.set_title('Average Pool')\n",
        "ax1.imshow(pool1)\n",
        "\n",
        "ax2.set_title('Max Pool')\n",
        "ax2.imshow(pool2)\n",
        "\n",
        "ax3.set_title('Overlapping Max Pool')\n",
        "ax3.imshow(pool3)\n",
        "fig.show()"
      ],
      "execution_count": 13,
      "outputs": [
        {
          "output_type": "display_data",
          "data": {
            "image/png": "[encoded data removed]",
            "text/plain": [
              "<Figure size 720x720 with 3 Axes>"
            ]
          },
          "metadata": {
            "tags": []
          }
        }
      ]
    },
    {
      "cell_type": "markdown",
      "metadata": {
        "id": "cXlDZXHQBSzA",
        "colab_type": "text"
      },
      "source": [
        "##CNN"
      ]
    },
    {
      "cell_type": "code",
      "metadata": {
        "id": "TeC99hj3bOqK",
        "colab_type": "code",
        "colab": {
          "base_uri": "https://localhost:8080/",
          "height": 34
        },
        "outputId": "70995029-3257-4a76-e223-40c4e36d9389"
      },
      "source": [
        "import keras\n",
        "from keras.models import Sequential\n",
        "from keras.layers import Activation, Dropout, Flatten, Dense\n",
        "from keras.preprocessing.image import ImageDataGenerator\n",
        "from keras.layers import Convolution2D, MaxPooling2D, ZeroPadding2D\n",
        "from keras.utils import to_categorical\n",
        "from keras import optimizers\n",
        "from keras.models import load_model"
      ],
      "execution_count": 9,
      "outputs": [
        {
          "output_type": "stream",
          "text": [
            "Using TensorFlow backend.\n"
          ],
          "name": "stderr"
        }
      ]
    },
    {
      "cell_type": "code",
      "metadata": {
        "id": "O1rAg89hnKAQ",
        "colab_type": "code",
        "colab": {}
      },
      "source": [
        "Y_train = to_categorical(Y_train)\n",
        "Y_test = to_categorical(Y_test)"
      ],
      "execution_count": 0,
      "outputs": []
    },
    {
      "cell_type": "code",
      "metadata": {
        "id": "Vzsbz70ly2S0",
        "colab_type": "code",
        "colab": {}
      },
      "source": [
        "model = Sequential()\n",
        " \n",
        "model.add(Convolution2D(32, 3, 3, activation='relu', input_shape=(28,28,1)))\n",
        "model.add(Convolution2D(32, 3, 3, activation='relu'))\n",
        "model.add(MaxPooling2D(pool_size=(2,2)))\n",
        "model.add(Dropout(0.25))\n",
        " \n",
        "model.add(Flatten())\n",
        "model.add(Dense(128, activation='relu'))\n",
        "model.add(Dropout(0.5))\n",
        "model.add(Dense(10, activation='softmax'))\n",
        " \n",
        "\n",
        "model.compile(loss='categorical_crossentropy',optimizer='adam',metrics=['accuracy'])"
      ],
      "execution_count": 0,
      "outputs": []
    },
    {
      "cell_type": "code",
      "metadata": {
        "id": "bxAp4savy3Jt",
        "colab_type": "code",
        "colab": {}
      },
      "source": [
        "###LOAD MODEL\n",
        "model = load_model('CNN-MNIST-digits.h5')"
      ],
      "execution_count": 0,
      "outputs": []
    },
    {
      "cell_type": "code",
      "metadata": {
        "id": "Nvzt7PN79za-",
        "colab_type": "code",
        "colab": {}
      },
      "source": [
        "history=model.fit(X_train, Y_train, batch_size=25, nb_epoch=50, validation_split=0.2,verbose=1)"
      ],
      "execution_count": 0,
      "outputs": []
    },
    {
      "cell_type": "code",
      "metadata": {
        "id": "21I6rwOchb4K",
        "colab_type": "code",
        "outputId": "a884c949-53a9-422d-d3f5-63bac7a2c923",
        "colab": {
          "base_uri": "https://localhost:8080/",
          "height": 1818
        }
      },
      "source": [
        "history=model.fit(X_train, Y_train, batch_size=25, nb_epoch=50, validation_split=0.2,verbose=1)"
      ],
      "execution_count": 17,
      "outputs": [
        {
          "output_type": "stream",
          "text": [
            "/usr/local/lib/python3.6/dist-packages/ipykernel_launcher.py:3: UserWarning: Update your `Conv2D` call to the Keras 2 API: `Conv2D(32, (3, 3), activation=\"relu\", input_shape=(28, 28, 1...)`\n",
            "  This is separate from the ipykernel package so we can avoid doing imports until\n",
            "/usr/local/lib/python3.6/dist-packages/ipykernel_launcher.py:4: UserWarning: Update your `Conv2D` call to the Keras 2 API: `Conv2D(32, (3, 3), activation=\"relu\")`\n",
            "  after removing the cwd from sys.path.\n",
            "/usr/local/lib/python3.6/dist-packages/ipykernel_launcher.py:17: UserWarning: The `nb_epoch` argument in `fit` has been renamed `epochs`.\n"
          ],
          "name": "stderr"
        },
        {
          "output_type": "stream",
          "text": [
            "Train on 16000 samples, validate on 4000 samples\n",
            "Epoch 1/50\n",
            "16000/16000 [==============================] - 7s 423us/step - loss: 12.7524 - acc: 0.2046 - val_loss: 7.1682 - val_acc: 0.5465\n",
            "Epoch 2/50\n",
            "16000/16000 [==============================] - 6s 396us/step - loss: 6.4669 - acc: 0.5893 - val_loss: 4.8940 - val_acc: 0.6868\n",
            "Epoch 3/50\n",
            "16000/16000 [==============================] - 6s 399us/step - loss: 3.6432 - acc: 0.7609 - val_loss: 2.3683 - val_acc: 0.8422\n",
            "Epoch 4/50\n",
            "16000/16000 [==============================] - 6s 399us/step - loss: 1.4464 - acc: 0.8560 - val_loss: 0.1889 - val_acc: 0.9480\n",
            "Epoch 5/50\n",
            "16000/16000 [==============================] - 6s 400us/step - loss: 0.2894 - acc: 0.9191 - val_loss: 0.1288 - val_acc: 0.9632\n",
            "Epoch 6/50\n",
            "16000/16000 [==============================] - 6s 400us/step - loss: 0.1942 - acc: 0.9440 - val_loss: 0.1065 - val_acc: 0.9685\n",
            "Epoch 7/50\n",
            "16000/16000 [==============================] - 6s 397us/step - loss: 0.1461 - acc: 0.9586 - val_loss: 0.0976 - val_acc: 0.9720\n",
            "Epoch 8/50\n",
            "16000/16000 [==============================] - 6s 398us/step - loss: 0.1280 - acc: 0.9606 - val_loss: 0.0780 - val_acc: 0.9757\n",
            "Epoch 9/50\n",
            "16000/16000 [==============================] - 6s 397us/step - loss: 0.1073 - acc: 0.9665 - val_loss: 0.0734 - val_acc: 0.9765\n",
            "Epoch 10/50\n",
            "16000/16000 [==============================] - 6s 398us/step - loss: 0.0881 - acc: 0.9732 - val_loss: 0.0774 - val_acc: 0.9785\n",
            "Epoch 11/50\n",
            "16000/16000 [==============================] - 6s 397us/step - loss: 0.0844 - acc: 0.9734 - val_loss: 0.0791 - val_acc: 0.9772\n",
            "Epoch 12/50\n",
            "16000/16000 [==============================] - 7s 407us/step - loss: 0.0841 - acc: 0.9746 - val_loss: 0.0888 - val_acc: 0.9780\n",
            "Epoch 13/50\n",
            "16000/16000 [==============================] - 6s 399us/step - loss: 0.0763 - acc: 0.9766 - val_loss: 0.0997 - val_acc: 0.9782\n",
            "Epoch 14/50\n",
            "16000/16000 [==============================] - 6s 399us/step - loss: 0.0753 - acc: 0.9762 - val_loss: 0.0822 - val_acc: 0.9765\n",
            "Epoch 15/50\n",
            "16000/16000 [==============================] - 6s 397us/step - loss: 0.0686 - acc: 0.9779 - val_loss: 0.0866 - val_acc: 0.9795\n",
            "Epoch 16/50\n",
            "16000/16000 [==============================] - 6s 399us/step - loss: 0.0703 - acc: 0.9795 - val_loss: 0.0857 - val_acc: 0.9775\n",
            "Epoch 17/50\n",
            "16000/16000 [==============================] - 6s 398us/step - loss: 0.0623 - acc: 0.9807 - val_loss: 0.0800 - val_acc: 0.9817\n",
            "Epoch 18/50\n",
            "16000/16000 [==============================] - 6s 400us/step - loss: 0.0575 - acc: 0.9828 - val_loss: 0.0872 - val_acc: 0.9797\n",
            "Epoch 19/50\n",
            "16000/16000 [==============================] - 6s 398us/step - loss: 0.0606 - acc: 0.9811 - val_loss: 0.0946 - val_acc: 0.9790\n",
            "Epoch 20/50\n",
            "16000/16000 [==============================] - 6s 401us/step - loss: 0.0614 - acc: 0.9810 - val_loss: 0.1016 - val_acc: 0.9782\n",
            "Epoch 21/50\n",
            "16000/16000 [==============================] - 6s 397us/step - loss: 0.0504 - acc: 0.9856 - val_loss: 0.0865 - val_acc: 0.9807\n",
            "Epoch 22/50\n",
            "16000/16000 [==============================] - 6s 397us/step - loss: 0.0508 - acc: 0.9842 - val_loss: 0.0903 - val_acc: 0.9830\n",
            "Epoch 23/50\n",
            "16000/16000 [==============================] - 6s 398us/step - loss: 0.0484 - acc: 0.9856 - val_loss: 0.0861 - val_acc: 0.9825\n",
            "Epoch 24/50\n",
            "16000/16000 [==============================] - 7s 407us/step - loss: 0.0436 - acc: 0.9869 - val_loss: 0.0970 - val_acc: 0.9805\n",
            "Epoch 25/50\n",
            "16000/16000 [==============================] - 7s 420us/step - loss: 0.0474 - acc: 0.9860 - val_loss: 0.0779 - val_acc: 0.9835\n",
            "Epoch 26/50\n",
            "16000/16000 [==============================] - 6s 400us/step - loss: 0.0486 - acc: 0.9863 - val_loss: 0.0861 - val_acc: 0.9790\n",
            "Epoch 27/50\n",
            "16000/16000 [==============================] - 6s 398us/step - loss: 0.0461 - acc: 0.9866 - val_loss: 0.0930 - val_acc: 0.9845\n",
            "Epoch 28/50\n",
            "16000/16000 [==============================] - 6s 402us/step - loss: 0.0400 - acc: 0.9872 - val_loss: 0.0844 - val_acc: 0.9825\n",
            "Epoch 29/50\n",
            "16000/16000 [==============================] - 6s 400us/step - loss: 0.0398 - acc: 0.9879 - val_loss: 0.0809 - val_acc: 0.9837\n",
            "Epoch 30/50\n",
            "16000/16000 [==============================] - 6s 400us/step - loss: 0.0435 - acc: 0.9877 - val_loss: 0.0866 - val_acc: 0.9840\n",
            "Epoch 31/50\n",
            "16000/16000 [==============================] - 6s 398us/step - loss: 0.0426 - acc: 0.9869 - val_loss: 0.0780 - val_acc: 0.9832\n",
            "Epoch 32/50\n",
            "16000/16000 [==============================] - 6s 404us/step - loss: 0.0367 - acc: 0.9895 - val_loss: 0.0895 - val_acc: 0.9842\n",
            "Epoch 33/50\n",
            "16000/16000 [==============================] - 6s 402us/step - loss: 0.0356 - acc: 0.9902 - val_loss: 0.0926 - val_acc: 0.9830\n",
            "Epoch 34/50\n",
            "16000/16000 [==============================] - 6s 398us/step - loss: 0.0392 - acc: 0.9897 - val_loss: 0.0961 - val_acc: 0.9820\n",
            "Epoch 35/50\n",
            "16000/16000 [==============================] - 6s 397us/step - loss: 0.0442 - acc: 0.9884 - val_loss: 0.1066 - val_acc: 0.9812\n",
            "Epoch 36/50\n",
            "16000/16000 [==============================] - 6s 401us/step - loss: 0.0409 - acc: 0.9874 - val_loss: 0.0979 - val_acc: 0.9827\n",
            "Epoch 37/50\n",
            "16000/16000 [==============================] - 6s 400us/step - loss: 0.0346 - acc: 0.9904 - val_loss: 0.1015 - val_acc: 0.9827\n",
            "Epoch 38/50\n",
            "16000/16000 [==============================] - 6s 404us/step - loss: 0.0471 - acc: 0.9872 - val_loss: 0.0809 - val_acc: 0.9842\n",
            "Epoch 39/50\n",
            "16000/16000 [==============================] - 6s 400us/step - loss: 0.0344 - acc: 0.9904 - val_loss: 0.1002 - val_acc: 0.9817\n",
            "Epoch 40/50\n",
            "16000/16000 [==============================] - 6s 401us/step - loss: 0.0316 - acc: 0.9907 - val_loss: 0.0985 - val_acc: 0.9795\n",
            "Epoch 41/50\n",
            "16000/16000 [==============================] - 6s 394us/step - loss: 0.0410 - acc: 0.9892 - val_loss: 0.0927 - val_acc: 0.9825\n",
            "Epoch 42/50\n",
            "16000/16000 [==============================] - 6s 397us/step - loss: 0.0367 - acc: 0.9903 - val_loss: 0.0918 - val_acc: 0.9837\n",
            "Epoch 43/50\n",
            "16000/16000 [==============================] - 6s 397us/step - loss: 0.0324 - acc: 0.9907 - val_loss: 0.0963 - val_acc: 0.9840\n",
            "Epoch 44/50\n",
            "16000/16000 [==============================] - 6s 395us/step - loss: 0.0461 - acc: 0.9889 - val_loss: 0.0963 - val_acc: 0.9825\n",
            "Epoch 45/50\n",
            "16000/16000 [==============================] - 6s 398us/step - loss: 0.0348 - acc: 0.9907 - val_loss: 0.0862 - val_acc: 0.9830\n",
            "Epoch 46/50\n",
            "16000/16000 [==============================] - 6s 397us/step - loss: 0.0297 - acc: 0.9917 - val_loss: 0.1001 - val_acc: 0.9852\n",
            "Epoch 47/50\n",
            "16000/16000 [==============================] - 6s 398us/step - loss: 0.0413 - acc: 0.9902 - val_loss: 0.1029 - val_acc: 0.9832\n",
            "Epoch 48/50\n",
            "16000/16000 [==============================] - 6s 397us/step - loss: 0.0356 - acc: 0.9902 - val_loss: 0.1084 - val_acc: 0.9842\n",
            "Epoch 49/50\n",
            "16000/16000 [==============================] - 6s 397us/step - loss: 0.0402 - acc: 0.9898 - val_loss: 0.0920 - val_acc: 0.9840\n",
            "Epoch 50/50\n",
            "16000/16000 [==============================] - 6s 396us/step - loss: 0.0302 - acc: 0.9936 - val_loss: 0.1025 - val_acc: 0.9837\n"
          ],
          "name": "stdout"
        }
      ]
    },
    {
      "cell_type": "code",
      "metadata": {
        "id": "6Fdy6fOfx5qb",
        "colab_type": "code",
        "colab": {}
      },
      "source": [
        "model.save(\"CNN-MNIST-digits.h5\")"
      ],
      "execution_count": 0,
      "outputs": []
    },
    {
      "cell_type": "code",
      "metadata": {
        "id": "tzYq8_QArRi3",
        "colab_type": "code",
        "outputId": "759f1fe3-c5d0-4ad5-95c7-520f3431da5c",
        "colab": {
          "base_uri": "https://localhost:8080/",
          "height": 34
        }
      },
      "source": [
        "print(history.history.keys())"
      ],
      "execution_count": 0,
      "outputs": [
        {
          "output_type": "stream",
          "text": [
            "dict_keys(['val_loss', 'val_acc', 'loss', 'acc'])\n"
          ],
          "name": "stdout"
        }
      ]
    },
    {
      "cell_type": "code",
      "metadata": {
        "id": "a9lkzaR2qtOd",
        "colab_type": "code",
        "outputId": "61f5a677-594a-498d-e4f7-1911cc8d6fd7",
        "colab": {
          "base_uri": "https://localhost:8080/",
          "height": 574
        }
      },
      "source": [
        "plt.plot(history.history['acc'])\n",
        "plt.plot(history.history['val_acc'])\n",
        "plt.title('model accuracy')\n",
        "plt.ylabel('accuracy')\n",
        "plt.xlabel('epoch')\n",
        "plt.legend(['train','test'], loc='upper left')\n",
        "plt.show()\n",
        "# summarize history for loss\n",
        "plt.plot(history.history['loss'])\n",
        "plt.plot(history.history['val_loss'])\n",
        "plt.title('model loss')\n",
        "plt.ylabel('loss')\n",
        "plt.xlabel('epoch')\n",
        "plt.legend(['train', 'test'], loc='upper left')\n",
        "plt.show()"
      ],
      "execution_count": 18,
      "outputs": [
        {
          "output_type": "display_data",
          "data": {
            "image/png": "[encoded data removed]",
            "text/plain": [
              "<Figure size 432x288 with 1 Axes>"
            ]
          },
          "metadata": {
            "tags": []
          }
        },
        {
          "output_type": "display_data",
          "data": {
            "image/png": "[encoded data removed]",
            "text/plain": [
              "<Figure size 432x288 with 1 Axes>"
            ]
          },
          "metadata": {
            "tags": []
          }
        }
      ]
    },
    {
      "cell_type": "markdown",
      "metadata": {
        "id": "wJmYWqhf-Axu",
        "colab_type": "text"
      },
      "source": [
        "##TESTING##"
      ]
    },
    {
      "cell_type": "markdown",
      "metadata": {
        "id": "XklWL0lu-EmK",
        "colab_type": "text"
      },
      "source": [
        "**MNIST TEST-SET**"
      ]
    },
    {
      "cell_type": "code",
      "metadata": {
        "id": "UH-R5HSjvscX",
        "colab_type": "code",
        "colab": {
          "base_uri": "https://localhost:8080/",
          "height": 286
        },
        "outputId": "70b20ec7-baaa-49fa-9c84-72e7dc9f0ea7"
      },
      "source": [
        "plt.imshow(X_test[0].reshape(28,28))\n",
        "plt.show()\n",
        "print(\"Prediction: \",np.argmax(model.predict(X_test[0].reshape(1,28,28,1))))"
      ],
      "execution_count": 11,
      "outputs": [
        {
          "output_type": "display_data",
          "data": {
            "image/png": "[encoded data removed]",
            "text/plain": [
              "<Figure size 432x288 with 1 Axes>"
            ]
          },
          "metadata": {
            "tags": []
          }
        },
        {
          "output_type": "stream",
          "text": [
            "Prediction:  7\n"
          ],
          "name": "stdout"
        }
      ]
    },
    {
      "cell_type": "markdown",
      "metadata": {
        "id": "KxUJbZm_-Jsz",
        "colab_type": "text"
      },
      "source": [
        "**CUSTOM NUMBER** ***Not part of MNIST***"
      ]
    },
    {
      "cell_type": "code",
      "metadata": {
        "id": "o5VEKmf_th-T",
        "colab_type": "code",
        "colab": {
          "base_uri": "https://localhost:8080/",
          "height": 286
        },
        "outputId": "3ea662e5-4047-40c9-ce36-ee1fd35ee922"
      },
      "source": [
        "img=cv2.imread('6.png', cv2.IMREAD_GRAYSCALE).reshape(1,28,28,1)\n",
        "plt.imshow(img[0].reshape(28,28))\n",
        "plt.show()\n",
        "print(\"Prediction: \",np.argmax(model.predict(img)))"
      ],
      "execution_count": 12,
      "outputs": [
        {
          "output_type": "display_data",
          "data": {
            "image/png": "[encoded data removed]",
            "text/plain": [
              "<Figure size 432x288 with 1 Axes>"
            ]
          },
          "metadata": {
            "tags": []
          }
        },
        {
          "output_type": "stream",
          "text": [
            "Prediction:  6\n"
          ],
          "name": "stdout"
        }
      ]
    }
  ]
}