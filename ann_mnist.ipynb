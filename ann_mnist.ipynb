{
  "nbformat": 4,
  "nbformat_minor": 0,
  "metadata": {
    "colab": {
      "name": "ann-mnist.ipynb",
      "provenance": [],
      "toc_visible": true,
      "authorship_tag": "ABX9TyN0kJ1aqvn349kFd9aX+/EU",
      "include_colab_link": true
    },
    "kernelspec": {
      "name": "python3",
      "display_name": "Python 3"
    },
    "accelerator": "GPU"
  },
  "cells": [
    {
      "cell_type": "markdown",
      "metadata": {
        "id": "view-in-github",
        "colab_type": "text"
      },
      "source": [
        "<a href=\"https://colab.research.google.com/github/AnirbanMukherjeeXD/cnn-mnist-digits/blob/master/ann_mnist.ipynb\" target=\"_parent\"><img src=\"https://colab.research.google.com/assets/colab-badge.svg\" alt=\"Open In Colab\"/></a>"
      ]
    },
    {
      "cell_type": "code",
      "metadata": {
        "id": "JIVpsKJzvTAH",
        "colab_type": "code",
        "colab": {}
      },
      "source": [
        "from __future__ import absolute_import, division, print_function"
      ],
      "execution_count": 0,
      "outputs": []
    },
    {
      "cell_type": "code",
      "metadata": {
        "id": "o-xsDRl7vsSP",
        "colab_type": "code",
        "colab": {
          "base_uri": "https://localhost:8080/",
          "height": 34
        },
        "outputId": "5a8c3ce2-02ea-4c94-8537-df58c5750744"
      },
      "source": [
        "%tensorflow_version 2.x"
      ],
      "execution_count": 1,
      "outputs": [
        {
          "output_type": "stream",
          "text": [
            "TensorFlow 2.x selected.\n"
          ],
          "name": "stdout"
        }
      ]
    },
    {
      "cell_type": "code",
      "metadata": {
        "id": "QvKyDyrHvbYY",
        "colab_type": "code",
        "colab": {}
      },
      "source": [
        "# Helper libraries\n",
        "import numpy as np\n",
        "import matplotlib.pyplot as plt\n",
        "\n",
        "# TensorFlow and tf.keras\n",
        "import tensorflow as tf\n",
        "from tensorflow import keras\n",
        "from tensorflow.keras.utils import to_categorical"
      ],
      "execution_count": 0,
      "outputs": []
    },
    {
      "cell_type": "code",
      "metadata": {
        "id": "yGJBIyVKve_T",
        "colab_type": "code",
        "colab": {
          "base_uri": "https://localhost:8080/",
          "height": 50
        },
        "outputId": "3089432f-27a0-4b30-c2d0-e800e0a1df5d"
      },
      "source": [
        "mnist = keras.datasets.mnist\n",
        "(train_images, train_labels),(test_images, test_labels) =  mnist.load_data()\n"
      ],
      "execution_count": 3,
      "outputs": [
        {
          "output_type": "stream",
          "text": [
            "Downloading data from https://storage.googleapis.com/tensorflow/tf-keras-datasets/mnist.npz\n",
            "11493376/11490434 [==============================] - 0s 0us/step\n"
          ],
          "name": "stdout"
        }
      ]
    },
    {
      "cell_type": "code",
      "metadata": {
        "id": "h1EdV0eWwMNw",
        "colab_type": "code",
        "colab": {
          "base_uri": "https://localhost:8080/",
          "height": 282
        },
        "outputId": "5cef2347-17d7-4c9c-c683-b2ea1544681e"
      },
      "source": [
        "plt.gray()\n",
        "plt.imshow(train_images[0])\n",
        "print(train_labels[0])"
      ],
      "execution_count": 4,
      "outputs": [
        {
          "output_type": "stream",
          "text": [
            "5\n"
          ],
          "name": "stdout"
        },
        {
          "output_type": "display_data",
          "data": {
            "image/png": "[encoded data removed]",
            "text/plain": [
              "<Figure size 432x288 with 1 Axes>"
            ]
          },
          "metadata": {
            "tags": []
          }
        }
      ]
    },
    {
      "cell_type": "code",
      "metadata": {
        "id": "J8HfPZlJwfP4",
        "colab_type": "code",
        "colab": {}
      },
      "source": [
        "train_images = train_images / 255.0\n",
        "test_images = test_images / 255.0"
      ],
      "execution_count": 0,
      "outputs": []
    },
    {
      "cell_type": "code",
      "metadata": {
        "id": "BWDQAf61ygwd",
        "colab_type": "code",
        "colab": {}
      },
      "source": [
        "train_labels = to_categorical(train_labels)\n",
        "test_labels = to_categorical(test_labels)"
      ],
      "execution_count": 0,
      "outputs": []
    },
    {
      "cell_type": "code",
      "metadata": {
        "id": "0apM-G5vwoGy",
        "colab_type": "code",
        "colab": {}
      },
      "source": [
        "model = keras.Sequential([\n",
        "    keras.layers.Flatten(input_shape=(28, 28)),\n",
        "    keras.layers.Dense(128, activation=tf.nn.relu),\n",
        "    keras.layers.Dense(10, activation=tf.nn.softmax)\n",
        "])"
      ],
      "execution_count": 0,
      "outputs": []
    },
    {
      "cell_type": "code",
      "metadata": {
        "id": "BNN1TBsBwtjf",
        "colab_type": "code",
        "colab": {
          "base_uri": "https://localhost:8080/",
          "height": 252
        },
        "outputId": "e9b856c1-4ba0-480b-99e6-6983e25ee7e3"
      },
      "source": [
        "model.summary()"
      ],
      "execution_count": 12,
      "outputs": [
        {
          "output_type": "stream",
          "text": [
            "Model: \"sequential_1\"\n",
            "_________________________________________________________________\n",
            "Layer (type)                 Output Shape              Param #   \n",
            "=================================================================\n",
            "flatten_1 (Flatten)          (None, 784)               0         \n",
            "_________________________________________________________________\n",
            "dense_2 (Dense)              (None, 128)               100480    \n",
            "_________________________________________________________________\n",
            "dense_3 (Dense)              (None, 10)                1290      \n",
            "=================================================================\n",
            "Total params: 101,770\n",
            "Trainable params: 101,770\n",
            "Non-trainable params: 0\n",
            "_________________________________________________________________\n"
          ],
          "name": "stdout"
        }
      ]
    },
    {
      "cell_type": "code",
      "metadata": {
        "id": "7RlQSWs_wxVG",
        "colab_type": "code",
        "colab": {}
      },
      "source": [
        "model.compile(optimizer='adam',    \n",
        "              loss='categorical_crossentropy',    \n",
        "              metrics=['accuracy'])"
      ],
      "execution_count": 0,
      "outputs": []
    },
    {
      "cell_type": "code",
      "metadata": {
        "id": "UW9eibZ-w1gS",
        "colab_type": "code",
        "colab": {
          "base_uri": "https://localhost:8080/",
          "height": 706
        },
        "outputId": "3fde5221-d2b5-463e-eb51-d934a15d83ed"
      },
      "source": [
        "history=model.fit(train_images, train_labels, epochs=20, validation_split=0.2,)"
      ],
      "execution_count": 25,
      "outputs": [
        {
          "output_type": "stream",
          "text": [
            "Train on 48000 samples, validate on 12000 samples\n",
            "Epoch 1/20\n",
            "48000/48000 [==============================] - 5s 97us/sample - loss: 0.2906 - accuracy: 0.9181 - val_loss: 0.1587 - val_accuracy: 0.9554\n",
            "Epoch 2/20\n",
            "48000/48000 [==============================] - 4s 88us/sample - loss: 0.1280 - accuracy: 0.9620 - val_loss: 0.1202 - val_accuracy: 0.9643\n",
            "Epoch 3/20\n",
            "48000/48000 [==============================] - 4s 90us/sample - loss: 0.0877 - accuracy: 0.9752 - val_loss: 0.0952 - val_accuracy: 0.9712\n",
            "Epoch 4/20\n",
            "48000/48000 [==============================] - 4s 93us/sample - loss: 0.0664 - accuracy: 0.9798 - val_loss: 0.0932 - val_accuracy: 0.9709\n",
            "Epoch 5/20\n",
            "48000/48000 [==============================] - 4s 91us/sample - loss: 0.0505 - accuracy: 0.9844 - val_loss: 0.0883 - val_accuracy: 0.9747\n",
            "Epoch 6/20\n",
            "48000/48000 [==============================] - 4s 92us/sample - loss: 0.0391 - accuracy: 0.9884 - val_loss: 0.0885 - val_accuracy: 0.9745\n",
            "Epoch 7/20\n",
            "48000/48000 [==============================] - 4s 87us/sample - loss: 0.0313 - accuracy: 0.9906 - val_loss: 0.0833 - val_accuracy: 0.9762\n",
            "Epoch 8/20\n",
            "48000/48000 [==============================] - 4s 93us/sample - loss: 0.0254 - accuracy: 0.9925 - val_loss: 0.0878 - val_accuracy: 0.9750\n",
            "Epoch 9/20\n",
            "48000/48000 [==============================] - 4s 94us/sample - loss: 0.0199 - accuracy: 0.9944 - val_loss: 0.0861 - val_accuracy: 0.9758\n",
            "Epoch 10/20\n",
            "48000/48000 [==============================] - 4s 89us/sample - loss: 0.0167 - accuracy: 0.9951 - val_loss: 0.0902 - val_accuracy: 0.9740\n",
            "Epoch 11/20\n",
            "48000/48000 [==============================] - 4s 93us/sample - loss: 0.0145 - accuracy: 0.9956 - val_loss: 0.0995 - val_accuracy: 0.9739\n",
            "Epoch 12/20\n",
            "48000/48000 [==============================] - 4s 89us/sample - loss: 0.0111 - accuracy: 0.9967 - val_loss: 0.0942 - val_accuracy: 0.9747\n",
            "Epoch 13/20\n",
            "48000/48000 [==============================] - 4s 90us/sample - loss: 0.0088 - accuracy: 0.9977 - val_loss: 0.1016 - val_accuracy: 0.9761\n",
            "Epoch 14/20\n",
            "48000/48000 [==============================] - 4s 90us/sample - loss: 0.0094 - accuracy: 0.9971 - val_loss: 0.0981 - val_accuracy: 0.9769\n",
            "Epoch 15/20\n",
            "48000/48000 [==============================] - 4s 90us/sample - loss: 0.0086 - accuracy: 0.9971 - val_loss: 0.1137 - val_accuracy: 0.9744\n",
            "Epoch 16/20\n",
            "48000/48000 [==============================] - 4s 89us/sample - loss: 0.0058 - accuracy: 0.9984 - val_loss: 0.1002 - val_accuracy: 0.9783\n",
            "Epoch 17/20\n",
            "48000/48000 [==============================] - 4s 88us/sample - loss: 0.0062 - accuracy: 0.9983 - val_loss: 0.1019 - val_accuracy: 0.9778\n",
            "Epoch 18/20\n",
            "48000/48000 [==============================] - 5s 96us/sample - loss: 0.0064 - accuracy: 0.9980 - val_loss: 0.1010 - val_accuracy: 0.9780\n",
            "Epoch 19/20\n",
            "48000/48000 [==============================] - 4s 93us/sample - loss: 0.0056 - accuracy: 0.9984 - val_loss: 0.1102 - val_accuracy: 0.9773\n",
            "Epoch 20/20\n",
            "48000/48000 [==============================] - 4s 88us/sample - loss: 0.0053 - accuracy: 0.9984 - val_loss: 0.1210 - val_accuracy: 0.9739\n"
          ],
          "name": "stdout"
        }
      ]
    },
    {
      "cell_type": "code",
      "metadata": {
        "id": "82puF6mrw66u",
        "colab_type": "code",
        "colab": {
          "base_uri": "https://localhost:8080/",
          "height": 295
        },
        "outputId": "587c6cf1-52e6-4ade-db53-e8f8029dac3b"
      },
      "source": [
        "plt.plot(history.history['loss'])\n",
        "plt.plot(history.history['val_loss'])\n",
        "plt.title('model loss')\n",
        "plt.ylabel('loss')\n",
        "plt.xlabel('epoch')\n",
        "plt.legend(['train', 'test'], loc='upper left')\n",
        "plt.show()"
      ],
      "execution_count": 26,
      "outputs": [
        {
          "output_type": "display_data",
          "data": {
            "image/png": "[encoded data removed]",
            "text/plain": [
              "<Figure size 432x288 with 1 Axes>"
            ]
          },
          "metadata": {
            "tags": []
          }
        }
      ]
    }
  ]
}